{
 "cells": [
  {
   "cell_type": "code",
   "execution_count": null,
   "metadata": {},
   "outputs": [],
   "source": []
  },
  {
   "cell_type": "markdown",
   "metadata": {},
   "source": [
    "# Steps towards developing a postgres dol"
   ]
  },
  {
   "cell_type": "markdown",
   "metadata": {},
   "source": [
    "We're going to need a database to play with, so first let's get that! \n",
    "\n",
    "We don't like to show secrets in our code, so we'll use [config2py](https://pypi.org/project/config2py/) to specify our DB keys."
   ]
  },
  {
   "cell_type": "code",
   "execution_count": 5,
   "metadata": {},
   "outputs": [],
   "source": [
    "import config2py\n",
    "\n",
    "POSTGRESS_TEST_DB_URL = config2py.config_getter('POSTGRESS_TEST_DB_URL')"
   ]
  },
  {
   "cell_type": "markdown",
   "metadata": {},
   "source": [
    "## SQLAlchemy"
   ]
  },
  {
   "cell_type": "markdown",
   "metadata": {},
   "source": [
    "We'll use [SQLAlchemy](https://pypi.org/project/SQLAlchemy/) to interface with postgress from python.\n",
    "\n",
    "Let's first look at what this sqlalchemy interface looks like with our test table, \n",
    "doing some basic operations that we'll won't to DOLify later."
   ]
  },
  {
   "cell_type": "markdown",
   "metadata": {},
   "source": [
    "### get list of table names"
   ]
  },
  {
   "cell_type": "code",
   "execution_count": 4,
   "metadata": {},
   "outputs": [
    {
     "name": "stderr",
     "output_type": "stream",
     "text": [
      "/var/folders/mc/c070wfh51kxd9lft8dl74q1r0000gn/T/ipykernel_65051/1019456399.py:7: SADeprecationWarning: The from_engine() method on Inspector is deprecated and will be removed in a future release.  Please use the sqlalchemy.inspect() function on an Engine or Connection in order to acquire an Inspector. (deprecated since: 1.4)\n",
      "  inspector = Inspector.from_engine(engine)\n"
     ]
    },
    {
     "name": "stdout",
     "output_type": "stream",
     "text": [
      "['app', 'prompt_template', 'users']\n"
     ]
    }
   ],
   "source": [
    "from sqlalchemy import create_engine\n",
    "from sqlalchemy.engine.reflection import Inspector\n",
    "\n",
    "# Replace the placeholder values with your actual database credentials\n",
    "engine = create_engine(POSTGRESS_TEST_DB_URL)\n",
    "\n",
    "inspector = Inspector.from_engine(engine)\n",
    "\n",
    "# List table names\n",
    "table_names = inspector.get_table_names()\n",
    "print(table_names)"
   ]
  },
  {
   "cell_type": "markdown",
   "metadata": {},
   "source": [
    "## Get rows for a given table and selector"
   ]
  },
  {
   "cell_type": "markdown",
   "metadata": {},
   "source": [
    "In a given table, get a generator the will yield rows given a selector (selection logic), by default the \"everything\" selector, yielding all rows"
   ]
  },
  {
   "cell_type": "code",
   "execution_count": 7,
   "metadata": {},
   "outputs": [],
   "source": [
    "from sqlalchemy import create_engine, Column, Integer, String, Float\n",
    "from sqlalchemy.orm import declarative_base, sessionmaker, Session\n",
    "\n",
    "engine = create_engine(POSTGRESS_TEST_DB_URL)\n",
    "\n",
    "SessionLocal = sessionmaker(autocommit=False, autoflush=False, bind=engine)\n",
    "\n",
    "# Déclaration de la base pour la définition des modèles SQLAlchemy\n",
    "Base = declarative_base()\n",
    "\n",
    "class User(Base) :\n",
    "    __tablename__ = \"user\"\n",
    "    id = Column(Integer, primary_key=True)\n",
    "    name = Column(String, index=True)\n",
    "    token = Column(String, index=True)\n",
    "\n",
    "class App(Base) :\n",
    "    __tablename__ = \"app\"\n",
    "    id = Column(Integer, primary_key=True, index=True)\n",
    "    name = Column(String, index=True)\n",
    "\n",
    "class AppPermission(Base) :\n",
    "    __tablename__ = \"app_permission\"\n",
    "    id = Column(Integer, primary_key=True, index=True)\n",
    "    user_id = Column(Integer)\n",
    "    app_id = Column(Integer)\n",
    "\n",
    "class PromptTemplate(Base) :\n",
    "    __tablename__ = \"prompt_template\"\n",
    "    id = Column(Integer, primary_key=True)\n",
    "    name = Column(String)\n",
    "    template = Column(String)\n",
    "    rjsf_ui = Column(String)"
   ]
  },
  {
   "cell_type": "code",
   "execution_count": 39,
   "metadata": {},
   "outputs": [
    {
     "name": "stdout",
     "output_type": "stream",
     "text": [
      "type(cursor)=<class 'sqlalchemy.engine.result.ChunkedIteratorResult'>\n",
      "isinstance(cursor, Generator)=False\n",
      "isinstance(cursor, Iterator)=True\n",
      "isinstance(cursor, Iterable)=True\n"
     ]
    }
   ],
   "source": [
    "from sqlalchemy.orm import sessionmaker\n",
    "from sqlalchemy import select, text\n",
    "\n",
    "Session = sessionmaker(bind=engine)\n",
    "session = Session()\n",
    "\n",
    "# Selection logic, by default fetching all\n",
    "query = select(PromptTemplate).filter()  # Adjust the number per your needs\n",
    "\n",
    "# for row in session.execute(query):\n",
    "#     print(row)\n",
    "\n",
    "cursor = session.execute(query)\n",
    "\n",
    "print(f\"{type(cursor)=}\")\n",
    "\n",
    "from typing import Iterator, Iterable, Generator\n",
    "print(f\"{isinstance(cursor, Generator)=}\")\n",
    "print(f\"{isinstance(cursor, Iterator)=}\")  # has __next__ method (so can do next(cursor))\n",
    "print(f\"{isinstance(cursor, Iterable)=}\")  # has __iter__ method (so can do for x in cursor...)\n"
   ]
  },
  {
   "cell_type": "code",
   "execution_count": 12,
   "metadata": {},
   "outputs": [
    {
     "data": {
      "text/plain": [
       "<function oa.tools.prompt_function.<locals>.ask_oa(thing, *, n='30', min_length='1', max_length='15')>"
      ]
     },
     "execution_count": 12,
     "metadata": {},
     "output_type": "execute_result"
    }
   ],
   "source": [
    "from oa import prompt_function\n",
    "\n",
    "prompt_function(\"\"\"Suggest {n:30} names \n",
    "between {min_length:1} and {max_length:15} characters long for {thing}.\n",
    "Only output the names, one per line with no words before or after it, \n",
    "since I will be parsing the output.\"\"\")"
   ]
  },
  {
   "cell_type": "code",
   "execution_count": 42,
   "metadata": {},
   "outputs": [
    {
     "name": "stdout",
     "output_type": "stream",
     "text": [
      "(1, 'Template1', 'Template content 1', '{\"ui\": \"ui_content_1\"}')\n",
      "(2, 'Template2', 'Template content 2', '{\"ui\": \"ui_content_2\"}')\n",
      "(3, 'Template3', 'Template content 3', '{\"ui\": \"ui_content_3\"}')\n",
      "(4, 'Template1', 'Template content 1', '{\"ui\": \"ui_content_1\"}')\n",
      "(5, 'Template2', 'Template content 2', '{\"ui\": \"ui_content_2\"}')\n",
      "(6, 'Template3', 'Template content 3', '{\"ui\": \"ui_content_3\"}')\n"
     ]
    }
   ],
   "source": [
    "from sqlalchemy import create_engine, Table, MetaData, select\n",
    "\n",
    "metadata = MetaData()\n",
    "\n",
    "# Reflect the table from the database\n",
    "prompt_template_table = Table('prompt_template', metadata, autoload_with=engine)\n",
    "\n",
    "# Now you can use this table object to construct a query\n",
    "query = select(prompt_template_table)\n",
    "\n",
    "# Execute the query\n",
    "with engine.connect() as connection:\n",
    "    result = connection.execute(query)\n",
    "    for row in result:\n",
    "        print(row)  # Each row is a RowProxy object that allows for column access by name\n"
   ]
  },
  {
   "cell_type": "markdown",
   "metadata": {},
   "source": [
    "## My first (read only) DOL"
   ]
  },
  {
   "cell_type": "code",
   "execution_count": 1,
   "metadata": {},
   "outputs": [],
   "source": [
    "import config2py\n",
    "\n",
    "POSTGRESS_TEST_DB_URL = config2py.config_getter('POSTGRESS_TEST_DB_URL')\n",
    "\n",
    "URI = POSTGRESS_TEST_DB_URL\n",
    "\n",
    "# An old class:\n",
    "# from sqldol import SQLAlchemyPersister\n",
    "# t = SQLAlchemyPersister(POSTGRESS_TEST_DB_URL, 'devdb')\n",
    "\n",
    "def print_attr_doc(obj):\n",
    "    for k in filter(lambda x: not x.startswith('_'), dir(obj)):\n",
    "        v = getattr(obj, k)\n",
    "        if doc := getattr(v, '__doc__'):\n",
    "            # print the first 88 characters or until the first newline\n",
    "            print(f\" * {k}: {doc[:88].splitlines()[0]}\")\n",
    "\n"
   ]
  },
  {
   "cell_type": "code",
   "execution_count": 3,
   "metadata": {},
   "outputs": [],
   "source": [
    "example_data = {\n",
    "    \"name\": [\"Alice\", \"Bob\", \"Charlie\", \"Diana\"],\n",
    "    \"age\": [30, 25, 35, 28],\n",
    "    \"extras\": [\n",
    "        {\"hobby\": \"cycling\", \"pet\": \"cat\"},\n",
    "        {\"hobby\": \"hiking\", \"pet\": \"dog\"},\n",
    "        {\"hobby\": \"swimming\", \"pet\": \"fish\"},\n",
    "        {\"hobby\": \"reading\"}\n",
    "    ]\n",
    "}\n",
    "\n",
    "# Create the table with the example data and type mapping\n",
    "# from sqldol.scrap.postgres_dol import DFLT_URI\n",
    "from sqldol.util import create_table_from_dict\n",
    "table = create_table_from_dict(example_data, table_name=\"sqldol_test_table\", uri=URI)\n"
   ]
  },
  {
   "cell_type": "code",
   "execution_count": 2,
   "metadata": {},
   "outputs": [
    {
     "data": {
      "text/plain": [
       "['app',\n",
       " 'prompt_template',\n",
       " 'users',\n",
       " 'py2store_default_table',\n",
       " 'devdb',\n",
       " 'test_table']"
      ]
     },
     "execution_count": 2,
     "metadata": {},
     "output_type": "execute_result"
    }
   ],
   "source": [
    "from sqldol.base import *\n",
    "\n",
    "tables = TablesDol(URI)\n",
    "list(tables)"
   ]
  },
  {
   "cell_type": "code",
   "execution_count": 5,
   "metadata": {},
   "outputs": [],
   "source": [
    "table_obj = tables['test_table']"
   ]
  },
  {
   "cell_type": "code",
   "execution_count": 7,
   "metadata": {},
   "outputs": [
    {
     "data": {
      "text/plain": [
       "['name', 'age', 'extras']"
      ]
     },
     "execution_count": 7,
     "metadata": {},
     "output_type": "execute_result"
    }
   ],
   "source": [
    "columns = TableColumnsDol(table_obj)\n",
    "list(columns)"
   ]
  },
  {
   "cell_type": "code",
   "execution_count": null,
   "metadata": {},
   "outputs": [],
   "source": []
  },
  {
   "cell_type": "code",
   "execution_count": 14,
   "metadata": {},
   "outputs": [
    {
     "data": {
      "text/plain": [
       "Column('age', INTEGER(), table=<test_table>)"
      ]
     },
     "execution_count": 14,
     "metadata": {},
     "output_type": "execute_result"
    }
   ],
   "source": [
    "column_obj = columns['age']\n",
    "column_obj"
   ]
  },
  {
   "cell_type": "code",
   "execution_count": 18,
   "metadata": {},
   "outputs": [
    {
     "data": {
      "text/plain": [
       "sqlalchemy.sql.schema.Column"
      ]
     },
     "execution_count": 18,
     "metadata": {},
     "output_type": "execute_result"
    }
   ],
   "source": [
    "type(column_obj)"
   ]
  },
  {
   "cell_type": "code",
   "execution_count": 17,
   "metadata": {},
   "outputs": [
    {
     "name": "stdout",
     "output_type": "stream",
     "text": [
      " * all_: Produce an :func:`_expression.all_` clause against the\n",
      " * allows_lambda: bool(x) -> bool\n",
      " * anon_key_label: A unicode subclass used to identify anonymously\n",
      " * anon_label: A unicode subclass used to identify anonymously\n",
      " * any_: Produce an :func:`_expression.any_` clause against the\n",
      " * argument_for: Add a new kind of dialect-specific keyword argument for this class.\n",
      " * asc: Produce a :func:`_expression.asc` clause against the\n",
      " * autoincrement: bool(x) -> bool\n",
      " * base_columns: frozenset() -> empty frozenset object\n",
      " * between: Produce a :func:`_expression.between` clause against\n",
      " * bitwise_and: Produce a bitwise AND operation, typically via the ``&``\n",
      " * bitwise_lshift: Produce a bitwise LSHIFT operation, typically via the ``<<``\n",
      " * bitwise_not: Produce a bitwise NOT operation, typically via the ``~``\n",
      " * bitwise_or: Produce a bitwise OR operation, typically via the ``|``\n",
      " * bitwise_rshift: Produce a bitwise RSHIFT operation, typically via the ``>>``\n",
      " * bitwise_xor: Produce a bitwise XOR operation, typically via the ``^``\n",
      " * bool_op: Return a custom boolean operator.\n",
      " * cast: Produce a type cast, i.e. ``CAST(<expression> AS <type>)``.\n",
      " * collate: Produce a :func:`_expression.collate` clause against\n",
      " * compare: Compare this :class:`_expression.ClauseElement` to\n",
      " * compile: Compile this SQL expression.\n",
      " * concat: Implement the 'concat' operator.\n",
      " * constraints: set() -> new empty set object\n",
      " * contains: Implement the 'contains' operator.\n",
      " * copy: \n",
      " * create_drop_stringify_dialect: str(object='') -> str\n",
      " * desc: Produce a :func:`_expression.desc` clause against the\n",
      " * description: Represent a SQL identifier combined with quoting preferences.\n",
      " * dialect_kwargs: A dictionary view of dialect-level arguments in the form\n",
      " * dialect_options: A dict which populates missing values via a creation function.\n",
      " * distinct: Produce a :func:`_expression.distinct` clause against the\n",
      " * endswith: Implement the 'endswith' operator.\n",
      " * expression: Represents a column in a database table.\n",
      " * foreign_keys: set() -> new empty set object\n",
      " * icontains: Implement the ``icontains`` operator, e.g. case insensitive\n",
      " * iendswith: Implement the ``iendswith`` operator, e.g. case insensitive\n",
      " * ilike: Implement the ``ilike`` operator, e.g. case insensitive LIKE.\n",
      " * in_: Implement the ``in`` operator.\n",
      " * info: dict() -> new empty dictionary\n",
      " * inherit_cache: bool(x) -> bool\n",
      " * is_: Implement the ``IS`` operator.\n",
      " * is_clause_element: bool(x) -> bool\n",
      " * is_distinct_from: Implement the ``IS DISTINCT FROM`` operator.\n",
      " * is_dml: bool(x) -> bool\n",
      " * is_literal: bool(x) -> bool\n",
      " * is_not: Implement the ``IS NOT`` operator.\n",
      " * is_not_distinct_from: Implement the ``IS NOT DISTINCT FROM`` operator.\n",
      " * is_selectable: bool(x) -> bool\n",
      " * isnot: Implement the ``IS NOT`` operator.\n",
      " * isnot_distinct_from: Implement the ``IS NOT DISTINCT FROM`` operator.\n",
      " * istartswith: Implement the ``istartswith`` operator, e.g. case insensitive\n",
      " * key: Represent a SQL identifier combined with quoting preferences.\n",
      " * kwargs: A dictionary view of dialect-level arguments in the form\n",
      " * label: Produce a column label, i.e. ``<columnname> AS <name>``.\n",
      " * like: Implement the ``like`` operator.\n",
      " * match: Implements a database-specific 'match' operator.\n",
      " * memoized_attribute: A read-only @property that is only evaluated once.\n",
      " * memoized_instancemethod: Decorate a method memoize its return value.\n",
      " * name: Represent a SQL identifier combined with quoting preferences.\n",
      " * not_ilike: implement the ``NOT ILIKE`` operator.\n",
      " * not_in: implement the ``NOT IN`` operator.\n",
      " * not_like: implement the ``NOT LIKE`` operator.\n",
      " * notilike: implement the ``NOT ILIKE`` operator.\n",
      " * notin_: implement the ``NOT IN`` operator.\n",
      " * notlike: implement the ``NOT LIKE`` operator.\n",
      " * nullable: bool(x) -> bool\n",
      " * nulls_first: Produce a :func:`_expression.nulls_first` clause against the\n",
      " * nulls_last: Produce a :func:`_expression.nulls_last` clause against the\n",
      " * nullsfirst: Produce a :func:`_expression.nulls_first` clause against the\n",
      " * nullslast: Produce a :func:`_expression.nulls_last` clause against the\n",
      " * op: Produce a generic operator function.\n",
      " * primary_key: bool(x) -> bool\n",
      " * proxy_set: frozenset() -> empty frozenset object\n",
      " * references: Return True if this Column references the given column via foreign\n",
      " * regexp_match: Implements a database-specific 'regexp match' operator.\n",
      " * regexp_replace: Implements a database-specific 'regexp replace' operator.\n",
      " * shares_lineage: Return True if the given :class:`_expression.ColumnElement`\n",
      " * startswith: Implement the ``startswith`` operator.\n",
      " * stringify_dialect: str(object='') -> str\n",
      " * supports_execution: bool(x) -> bool\n",
      " * system: bool(x) -> bool\n",
      " * table: Represent a table in a database.\n",
      " * type: The SQL INT or INTEGER type.\n",
      " * uses_inspection: bool(x) -> bool\n"
     ]
    },
    {
     "name": "stderr",
     "output_type": "stream",
     "text": [
      "/var/folders/mc/c070wfh51kxd9lft8dl74q1r0000gn/T/ipykernel_94142/2234909852.py:13: SADeprecationWarning: The ColumnElement.anon_key_label attribute is now private, and the public accessor is deprecated. (deprecated since: 1.4)\n",
      "  v = getattr(obj, k)\n",
      "/var/folders/mc/c070wfh51kxd9lft8dl74q1r0000gn/T/ipykernel_94142/2234909852.py:13: SADeprecationWarning: The ColumnElement.anon_label attribute is now private, and the public accessor is deprecated. (deprecated since: 1.4)\n",
      "  v = getattr(obj, k)\n"
     ]
    }
   ],
   "source": [
    "# get list of column values\n",
    "print_attr_doc(column_obj)"
   ]
  },
  {
   "cell_type": "code",
   "execution_count": null,
   "metadata": {},
   "outputs": [],
   "source": []
  },
  {
   "cell_type": "code",
   "execution_count": 21,
   "metadata": {},
   "outputs": [
    {
     "data": {
      "text/plain": [
       "[Column('name', TEXT(), table=<test_table>),\n",
       " Column('age', INTEGER(), table=<test_table>),\n",
       " Column('extras', JSON(astext_type=Text()), table=<test_table>)]"
      ]
     },
     "execution_count": 21,
     "metadata": {},
     "output_type": "execute_result"
    }
   ],
   "source": [
    "table = TableColumnsCollection(table_obj)\n",
    "list(table)"
   ]
  },
  {
   "cell_type": "code",
   "execution_count": 34,
   "metadata": {},
   "outputs": [
    {
     "ename": "KeyError",
     "evalue": "Column('age', INTEGER(), table=<test_table>)",
     "output_type": "error",
     "traceback": [
      "\u001b[0;31m---------------------------------------------------------------------------\u001b[0m",
      "\u001b[0;31mKeyError\u001b[0m                                  Traceback (most recent call last)",
      "Cell \u001b[0;32mIn[34], line 2\u001b[0m\n\u001b[1;32m      1\u001b[0m column_obj \u001b[38;5;241m=\u001b[39m table[\u001b[38;5;241m1\u001b[39m]\n\u001b[0;32m----> 2\u001b[0m \u001b[43mtable\u001b[49m\u001b[43m[\u001b[49m\u001b[43mcolumn_obj\u001b[49m\u001b[43m]\u001b[49m\n",
      "File \u001b[0;32m~/Dropbox/py/proj/i/dols/sqldol/sqldol/scrap/postgres_dol.py:142\u001b[0m, in \u001b[0;36mTableColumnsDol.__getitem__\u001b[0;34m(self, key)\u001b[0m\n\u001b[1;32m    141\u001b[0m \u001b[38;5;28;01mdef\u001b[39;00m \u001b[38;5;21m__getitem__\u001b[39m(\u001b[38;5;28mself\u001b[39m, key):\n\u001b[0;32m--> 142\u001b[0m     \u001b[38;5;28;01mreturn\u001b[39;00m \u001b[38;5;28;43mself\u001b[39;49m\u001b[38;5;241;43m.\u001b[39;49m\u001b[43mtable\u001b[49m\u001b[38;5;241;43m.\u001b[39;49m\u001b[43mc\u001b[49m\u001b[43m[\u001b[49m\u001b[43mkey\u001b[49m\u001b[43m]\u001b[49m\n",
      "File \u001b[0;32m~/.pyenv/versions/3.10.13/envs/p10/lib/python3.10/site-packages/sqlalchemy/sql/base.py:1607\u001b[0m, in \u001b[0;36mColumnCollection.__getitem__\u001b[0;34m(self, key)\u001b[0m\n\u001b[1;32m   1605\u001b[0m         \u001b[38;5;28;01mreturn\u001b[39;00m ColumnCollection(cols)\u001b[38;5;241m.\u001b[39mas_readonly()\n\u001b[1;32m   1606\u001b[0m     \u001b[38;5;28;01melse\u001b[39;00m:\n\u001b[0;32m-> 1607\u001b[0m         \u001b[38;5;28;01mreturn\u001b[39;00m \u001b[38;5;28;43mself\u001b[39;49m\u001b[38;5;241;43m.\u001b[39;49m\u001b[43m_index\u001b[49m\u001b[43m[\u001b[49m\u001b[43mkey\u001b[49m\u001b[43m]\u001b[49m[\u001b[38;5;241m1\u001b[39m]\n\u001b[1;32m   1608\u001b[0m \u001b[38;5;28;01mexcept\u001b[39;00m \u001b[38;5;167;01mKeyError\u001b[39;00m \u001b[38;5;28;01mas\u001b[39;00m err:\n\u001b[1;32m   1609\u001b[0m     \u001b[38;5;28;01mif\u001b[39;00m \u001b[38;5;28misinstance\u001b[39m(err\u001b[38;5;241m.\u001b[39margs[\u001b[38;5;241m0\u001b[39m], \u001b[38;5;28mint\u001b[39m):\n",
      "\u001b[0;31mKeyError\u001b[0m: Column('age', INTEGER(), table=<test_table>)"
     ]
    }
   ],
   "source": [
    "column_obj = table[1]\n"
   ]
  },
  {
   "cell_type": "code",
   "execution_count": 6,
   "metadata": {},
   "outputs": [
    {
     "name": "stdout",
     "output_type": "stream",
     "text": [
      " * all_: Produce an :func:`_expression.all_` clause against the\n",
      " * allows_lambda: bool(x) -> bool\n",
      " * anon_key_label: A unicode subclass used to identify anonymously\n",
      " * anon_label: A unicode subclass used to identify anonymously\n",
      " * any_: Produce an :func:`_expression.any_` clause against the\n",
      " * argument_for: Add a new kind of dialect-specific keyword argument for this class.\n",
      " * asc: Produce a :func:`_expression.asc` clause against the\n",
      " * autoincrement: bool(x) -> bool\n",
      " * base_columns: frozenset() -> empty frozenset object\n",
      " * between: Produce a :func:`_expression.between` clause against\n",
      " * bitwise_and: Produce a bitwise AND operation, typically via the ``&``\n",
      " * bitwise_lshift: Produce a bitwise LSHIFT operation, typically via the ``<<``\n",
      " * bitwise_not: Produce a bitwise NOT operation, typically via the ``~``\n",
      " * bitwise_or: Produce a bitwise OR operation, typically via the ``|``\n",
      " * bitwise_rshift: Produce a bitwise RSHIFT operation, typically via the ``>>``\n",
      " * bitwise_xor: Produce a bitwise XOR operation, typically via the ``^``\n",
      " * bool_op: Return a custom boolean operator.\n",
      " * cast: Produce a type cast, i.e. ``CAST(<expression> AS <type>)``.\n",
      " * collate: Produce a :func:`_expression.collate` clause against\n",
      " * compare: Compare this :class:`_expression.ClauseElement` to\n",
      " * compile: Compile this SQL expression.\n",
      " * concat: Implement the 'concat' operator.\n",
      " * constraints: set() -> new empty set object\n",
      " * contains: Implement the 'contains' operator.\n",
      " * copy: \n",
      " * create_drop_stringify_dialect: str(object='') -> str\n",
      " * desc: Produce a :func:`_expression.desc` clause against the\n",
      " * description: Represent a SQL identifier combined with quoting preferences.\n",
      " * dialect_kwargs: A dictionary view of dialect-level arguments in the form\n",
      " * dialect_options: A dict which populates missing values via a creation function.\n",
      " * distinct: Produce a :func:`_expression.distinct` clause against the\n",
      " * endswith: Implement the 'endswith' operator.\n",
      " * expression: Represents a column in a database table.\n",
      " * foreign_keys: set() -> new empty set object\n",
      " * icontains: Implement the ``icontains`` operator, e.g. case insensitive\n",
      " * iendswith: Implement the ``iendswith`` operator, e.g. case insensitive\n",
      " * ilike: Implement the ``ilike`` operator, e.g. case insensitive LIKE.\n",
      " * in_: Implement the ``in`` operator.\n",
      " * info: dict() -> new empty dictionary\n",
      " * inherit_cache: bool(x) -> bool\n",
      " * is_: Implement the ``IS`` operator.\n",
      " * is_clause_element: bool(x) -> bool\n",
      " * is_distinct_from: Implement the ``IS DISTINCT FROM`` operator.\n",
      " * is_dml: bool(x) -> bool\n",
      " * is_literal: bool(x) -> bool\n",
      " * is_not: Implement the ``IS NOT`` operator.\n",
      " * is_not_distinct_from: Implement the ``IS NOT DISTINCT FROM`` operator.\n",
      " * is_selectable: bool(x) -> bool\n",
      " * isnot: Implement the ``IS NOT`` operator.\n",
      " * isnot_distinct_from: Implement the ``IS NOT DISTINCT FROM`` operator.\n",
      " * istartswith: Implement the ``istartswith`` operator, e.g. case insensitive\n",
      " * key: Represent a SQL identifier combined with quoting preferences.\n",
      " * kwargs: A dictionary view of dialect-level arguments in the form\n",
      " * label: Produce a column label, i.e. ``<columnname> AS <name>``.\n",
      " * like: Implement the ``like`` operator.\n",
      " * match: Implements a database-specific 'match' operator.\n",
      " * memoized_attribute: A read-only @property that is only evaluated once.\n",
      " * memoized_instancemethod: Decorate a method memoize its return value.\n",
      " * name: Represent a SQL identifier combined with quoting preferences.\n",
      " * not_ilike: implement the ``NOT ILIKE`` operator.\n",
      " * not_in: implement the ``NOT IN`` operator.\n",
      " * not_like: implement the ``NOT LIKE`` operator.\n",
      " * notilike: implement the ``NOT ILIKE`` operator.\n",
      " * notin_: implement the ``NOT IN`` operator.\n",
      " * notlike: implement the ``NOT LIKE`` operator.\n",
      " * nullable: bool(x) -> bool\n",
      " * nulls_first: Produce a :func:`_expression.nulls_first` clause against the\n",
      " * nulls_last: Produce a :func:`_expression.nulls_last` clause against the\n",
      " * nullsfirst: Produce a :func:`_expression.nulls_first` clause against the\n",
      " * nullslast: Produce a :func:`_expression.nulls_last` clause against the\n",
      " * op: Produce a generic operator function.\n",
      " * primary_key: bool(x) -> bool\n",
      " * proxy_set: frozenset() -> empty frozenset object\n",
      " * references: Return True if this Column references the given column via foreign\n",
      " * regexp_match: Implements a database-specific 'regexp match' operator.\n",
      " * regexp_replace: Implements a database-specific 'regexp replace' operator.\n",
      " * shares_lineage: Return True if the given :class:`_expression.ColumnElement`\n",
      " * startswith: Implement the ``startswith`` operator.\n",
      " * stringify_dialect: str(object='') -> str\n",
      " * supports_execution: bool(x) -> bool\n",
      " * system: bool(x) -> bool\n",
      " * table: Represent a table in a database.\n",
      " * type: The SQL VARCHAR type.\n",
      " * uses_inspection: bool(x) -> bool\n"
     ]
    },
    {
     "name": "stderr",
     "output_type": "stream",
     "text": [
      "/var/folders/mc/c070wfh51kxd9lft8dl74q1r0000gn/T/ipykernel_81893/511497009.py:11: SADeprecationWarning: The ColumnElement.anon_key_label attribute is now private, and the public accessor is deprecated. (deprecated since: 1.4)\n",
      "  v = getattr(obj, k)\n",
      "/var/folders/mc/c070wfh51kxd9lft8dl74q1r0000gn/T/ipykernel_81893/511497009.py:11: SADeprecationWarning: The ColumnElement.anon_label attribute is now private, and the public accessor is deprecated. (deprecated since: 1.4)\n",
      "  v = getattr(obj, k)\n"
     ]
    }
   ],
   "source": [
    "column_obj = table[1]"
   ]
  },
  {
   "cell_type": "code",
   "execution_count": null,
   "metadata": {},
   "outputs": [],
   "source": []
  },
  {
   "cell_type": "code",
   "execution_count": null,
   "metadata": {},
   "outputs": [],
   "source": [
    "print_attr_doc(table_obj)"
   ]
  },
  {
   "cell_type": "code",
   "execution_count": null,
   "metadata": {},
   "outputs": [],
   "source": [
    "print_attr_doc(column_obj)"
   ]
  },
  {
   "cell_type": "code",
   "execution_count": 8,
   "metadata": {},
   "outputs": [
    {
     "ename": "AttributeError",
     "evalue": "'Table' object has no attribute 'bind'",
     "output_type": "error",
     "traceback": [
      "\u001b[0;31m---------------------------------------------------------------------------\u001b[0m",
      "\u001b[0;31mAttributeError\u001b[0m                            Traceback (most recent call last)",
      "Cell \u001b[0;32mIn[8], line 1\u001b[0m\n\u001b[0;32m----> 1\u001b[0m \u001b[43mTableRows\u001b[49m\u001b[43m(\u001b[49m\u001b[43mtable_obj\u001b[49m\u001b[43m)\u001b[49m\n",
      "File \u001b[0;32m~/Dropbox/py/proj/i/dols/sqldol/sqldol/scrap/postgres_dol.py:99\u001b[0m, in \u001b[0;36mTableRows.__init__\u001b[0;34m(self, table, filt, engine)\u001b[0m\n\u001b[1;32m     97\u001b[0m \u001b[38;5;28mself\u001b[39m\u001b[38;5;241m.\u001b[39mtable \u001b[38;5;241m=\u001b[39m table\n\u001b[1;32m     98\u001b[0m \u001b[38;5;28mself\u001b[39m\u001b[38;5;241m.\u001b[39mfilt \u001b[38;5;241m=\u001b[39m filt\n\u001b[0;32m---> 99\u001b[0m \u001b[38;5;28mself\u001b[39m\u001b[38;5;241m.\u001b[39mengine \u001b[38;5;241m=\u001b[39m engine \u001b[38;5;129;01mor\u001b[39;00m \u001b[43mtable\u001b[49m\u001b[38;5;241;43m.\u001b[39;49m\u001b[43mbind\u001b[49m\n",
      "\u001b[0;31mAttributeError\u001b[0m: 'Table' object has no attribute 'bind'"
     ]
    }
   ],
   "source": [
    "\n"
   ]
  },
  {
   "cell_type": "code",
   "execution_count": 201,
   "metadata": {},
   "outputs": [
    {
     "data": {
      "text/plain": [
       "(sqlalchemy.sql.schema.Table, sqlalchemy.engine.base.Engine)"
      ]
     },
     "execution_count": 201,
     "metadata": {},
     "output_type": "execute_result"
    }
   ],
   "source": [
    "type(table_obj), type(engine)"
   ]
  },
  {
   "cell_type": "code",
   "execution_count": 200,
   "metadata": {},
   "outputs": [
    {
     "data": {
      "text/plain": [
       "[(1, 'Template1', 'Template content 1', '{\"ui\": \"ui_content_1\"}'),\n",
       " (2, 'Template2', 'Template content 2', '{\"ui\": \"ui_content_2\"}'),\n",
       " (3, 'Template3', 'Template content 3', '{\"ui\": \"ui_content_3\"}'),\n",
       " (4, 'Template1', 'Template content 1', '{\"ui\": \"ui_content_1\"}'),\n",
       " (5, 'Template2', 'Template content 2', '{\"ui\": \"ui_content_2\"}'),\n",
       " (6, 'Template3', 'Template content 3', '{\"ui\": \"ui_content_3\"}')]"
      ]
     },
     "execution_count": 200,
     "metadata": {},
     "output_type": "execute_result"
    }
   ],
   "source": [
    "def table_iter(table, engine):\n",
    "    query = select(table)\n",
    "    with engine.connect() as connection:\n",
    "        result = connection.execute(query)\n",
    "        for row in result:\n",
    "            yield row\n",
    "\n",
    "\n",
    "t = list(table_iter(table_obj, engine))\n",
    "t"
   ]
  },
  {
   "cell_type": "code",
   "execution_count": null,
   "metadata": {},
   "outputs": [],
   "source": []
  },
  {
   "cell_type": "code",
   "execution_count": null,
   "metadata": {},
   "outputs": [],
   "source": []
  },
  {
   "cell_type": "code",
   "execution_count": null,
   "metadata": {},
   "outputs": [],
   "source": []
  },
  {
   "cell_type": "code",
   "execution_count": 171,
   "metadata": {},
   "outputs": [
    {
     "data": {
      "text/plain": [
       "('prompt_template', 'prompt_template')"
      ]
     },
     "execution_count": 171,
     "metadata": {},
     "output_type": "execute_result"
    }
   ],
   "source": [
    "t = s['prompt_template']\n",
    "dir(t)\n",
    "t.key, t.name"
   ]
  },
  {
   "cell_type": "code",
   "execution_count": null,
   "metadata": {},
   "outputs": [],
   "source": [
    "engine = create_engine(POSTGRESS_TEST_DB_URL)\n",
    "\n",
    "t = PostgressTables(POSTGRESS_TEST_DB_URL)"
   ]
  },
  {
   "cell_type": "code",
   "execution_count": 129,
   "metadata": {},
   "outputs": [
    {
     "data": {
      "text/plain": [
       "['id', 'name', 'template', 'rjsf_ui']"
      ]
     },
     "execution_count": 129,
     "metadata": {},
     "output_type": "execute_result"
    }
   ],
   "source": [
    "t = PostgresBaseColumnsReader(engine, 'prompt_template')\n",
    "list(t)"
   ]
  },
  {
   "cell_type": "code",
   "execution_count": 133,
   "metadata": {},
   "outputs": [
    {
     "ename": "TypeError",
     "evalue": "tuple indices must be integers or slices, not str",
     "output_type": "error",
     "traceback": [
      "\u001b[0;31m---------------------------------------------------------------------------\u001b[0m",
      "\u001b[0;31mTypeError\u001b[0m                                 Traceback (most recent call last)",
      "Cell \u001b[0;32mIn[133], line 2\u001b[0m\n\u001b[1;32m      1\u001b[0m t \u001b[38;5;241m=\u001b[39m PostgresBaseKvReader(engine, \u001b[38;5;124m'\u001b[39m\u001b[38;5;124mprompt_template\u001b[39m\u001b[38;5;124m'\u001b[39m, key_column\u001b[38;5;241m=\u001b[39m\u001b[38;5;124m'\u001b[39m\u001b[38;5;124mname\u001b[39m\u001b[38;5;124m'\u001b[39m, value_column\u001b[38;5;241m=\u001b[39m\u001b[38;5;124m'\u001b[39m\u001b[38;5;124mtemplate\u001b[39m\u001b[38;5;124m'\u001b[39m)\n\u001b[0;32m----> 2\u001b[0m \u001b[38;5;28;43mlist\u001b[39;49m\u001b[43m(\u001b[49m\u001b[43mt\u001b[49m\u001b[43m)\u001b[49m\n",
      "Cell \u001b[0;32mIn[131], line 72\u001b[0m, in \u001b[0;36mPostgresBaseKvReader.__iter__\u001b[0;34m(self)\u001b[0m\n\u001b[1;32m     70\u001b[0m result \u001b[38;5;241m=\u001b[39m connection\u001b[38;5;241m.\u001b[39mexecute(query)\n\u001b[1;32m     71\u001b[0m \u001b[38;5;28;01mfor\u001b[39;00m row \u001b[38;5;129;01min\u001b[39;00m result:\n\u001b[0;32m---> 72\u001b[0m     \u001b[38;5;28;01myield\u001b[39;00m \u001b[43mrow\u001b[49m\u001b[43m[\u001b[49m\u001b[38;5;28;43mself\u001b[39;49m\u001b[38;5;241;43m.\u001b[39;49m\u001b[43mkey_column\u001b[49m\u001b[43m]\u001b[49m, row[\u001b[38;5;28mself\u001b[39m\u001b[38;5;241m.\u001b[39mvalue_column]\n",
      "File \u001b[0;32mlib/sqlalchemy/cyextension/resultproxy.pyx:54\u001b[0m, in \u001b[0;36msqlalchemy.cyextension.resultproxy.BaseRow.__getitem__\u001b[0;34m()\u001b[0m\n",
      "\u001b[0;31mTypeError\u001b[0m: tuple indices must be integers or slices, not str"
     ]
    }
   ],
   "source": [
    "t = PostgresBaseKvReader(engine, 'prompt_template', key_column='name', value_column='template')\n",
    "list(t)"
   ]
  },
  {
   "cell_type": "code",
   "execution_count": 79,
   "metadata": {},
   "outputs": [
    {
     "data": {
      "text/plain": [
       "[(1, 'Template1', 'Template content 1', '{\"ui\": \"ui_content_1\"}'),\n",
       " (2, 'Template2', 'Template content 2', '{\"ui\": \"ui_content_2\"}'),\n",
       " (3, 'Template3', 'Template content 3', '{\"ui\": \"ui_content_3\"}'),\n",
       " (4, 'Template1', 'Template content 1', '{\"ui\": \"ui_content_1\"}'),\n",
       " (5, 'Template2', 'Template content 2', '{\"ui\": \"ui_content_2\"}'),\n",
       " (6, 'Template3', 'Template content 3', '{\"ui\": \"ui_content_3\"}')]"
      ]
     },
     "execution_count": 79,
     "metadata": {},
     "output_type": "execute_result"
    }
   ],
   "source": [
    "t = PostgresTableRows(engine, 'prompt_template')    \n",
    "list(t)\n"
   ]
  },
  {
   "cell_type": "code",
   "execution_count": null,
   "metadata": {},
   "outputs": [],
   "source": [
    "user, prompt_template_name, prompt_template_string, rjsf_ui_spec\n",
    "\n",
    "key-value views\n",
    "--> user_prompt_templates\n",
    "--> user_rjsf_ui_spec"
   ]
  },
  {
   "cell_type": "code",
   "execution_count": null,
   "metadata": {},
   "outputs": [],
   "source": []
  },
  {
   "cell_type": "code",
   "execution_count": null,
   "metadata": {},
   "outputs": [],
   "source": [
    "# def PostgresBaseKvReader(Mapping):\n",
    "#     \"\"\"A mapping view of a table, \n",
    "#     where keys are values from a key column and values are values from a value column.\n",
    "#     There's also a filter function that can be used to filter the rows.\n",
    "#     \"\"\"\n",
    "#     def __init__(\n",
    "#             self, engine, table_name, \n",
    "#             key_column=None, \n",
    "#             value_column=None, \n",
    "#             filt=None"
   ]
  },
  {
   "cell_type": "code",
   "execution_count": 96,
   "metadata": {},
   "outputs": [
    {
     "data": {
      "text/plain": [
       "['id', 'name', 'template', 'rjsf_ui']"
      ]
     },
     "execution_count": 96,
     "metadata": {},
     "output_type": "execute_result"
    }
   ],
   "source": [
    "t = PostgresBaseColumnsReader(engine, 'prompt_template')\n",
    "list(t)\n"
   ]
  },
  {
   "cell_type": "code",
   "execution_count": null,
   "metadata": {},
   "outputs": [],
   "source": [
    "user_prompt_templates = MkUserPromptTemplateStore(user, ...)\n",
    "\n",
    "list(user_prompt_templates)\n",
    "user_prompt_templates['prompt_template_id']\n",
    "user_prompt_templates['prompt_template_id'] = 'my prompt template'\n",
    "\n"
   ]
  },
  {
   "cell_type": "code",
   "execution_count": null,
   "metadata": {},
   "outputs": [],
   "source": []
  },
  {
   "cell_type": "code",
   "execution_count": 110,
   "metadata": {},
   "outputs": [
    {
     "data": {
      "text/plain": [
       "1"
      ]
     },
     "execution_count": 110,
     "metadata": {},
     "output_type": "execute_result"
    }
   ],
   "source": [
    "# d = {'a': 1, 'b': 2}\n",
    "\n",
    "# d.__getitem__('a')\n",
    "\n",
    "\n",
    "# mk_app({user_store, methods=['__getitem__', '__setitem__']})\n",
    "\n",
    "# ./user_store/prompt_templates/__getitem__?key=a"
   ]
  },
  {
   "cell_type": "code",
   "execution_count": 127,
   "metadata": {},
   "outputs": [
    {
     "ename": "NameError",
     "evalue": "name 'user' is not defined",
     "output_type": "error",
     "traceback": [
      "\u001b[0;31m---------------------------------------------------------------------------\u001b[0m",
      "\u001b[0;31mNameError\u001b[0m                                 Traceback (most recent call last)",
      "Cell \u001b[0;32mIn[127], line 1\u001b[0m\n\u001b[0;32m----> 1\u001b[0m \u001b[43muser\u001b[49m, name, prompt_template_str, rjsf_ui_spec\n",
      "\u001b[0;31mNameError\u001b[0m: name 'user' is not defined"
     ]
    }
   ],
   "source": [
    "user, name, prompt_template_str, rjsf_ui_spec\n",
    "\n"
   ]
  },
  {
   "cell_type": "code",
   "execution_count": 59,
   "metadata": {},
   "outputs": [
    {
     "data": {
      "text/plain": [
       "['app', 'prompt_template', 'users']"
      ]
     },
     "execution_count": 59,
     "metadata": {},
     "output_type": "execute_result"
    }
   ],
   "source": [
    "tables = PostgressTables(engine)\n",
    "list(tables)"
   ]
  },
  {
   "cell_type": "code",
   "execution_count": 51,
   "metadata": {},
   "outputs": [],
   "source": [
    "t = tables['prompt_template']\n"
   ]
  },
  {
   "cell_type": "code",
   "execution_count": 54,
   "metadata": {},
   "outputs": [
    {
     "data": {
      "text/plain": [
       "[(1, 'Template1', 'Template content 1', '{\"ui\": \"ui_content_1\"}'),\n",
       " (2, 'Template2', 'Template content 2', '{\"ui\": \"ui_content_2\"}'),\n",
       " (3, 'Template3', 'Template content 3', '{\"ui\": \"ui_content_3\"}'),\n",
       " (4, 'Template1', 'Template content 1', '{\"ui\": \"ui_content_1\"}'),\n",
       " (5, 'Template2', 'Template content 2', '{\"ui\": \"ui_content_2\"}'),\n",
       " (6, 'Template3', 'Template content 3', '{\"ui\": \"ui_content_3\"}')]"
      ]
     },
     "execution_count": 54,
     "metadata": {},
     "output_type": "execute_result"
    }
   ],
   "source": [
    "list(t)"
   ]
  },
  {
   "cell_type": "code",
   "execution_count": 48,
   "metadata": {},
   "outputs": [
    {
     "data": {
      "text/plain": [
       "['__annotations__',\n",
       " '__bool__',\n",
       " '__class__',\n",
       " '__class_getitem__',\n",
       " '__delattr__',\n",
       " '__dict__',\n",
       " '__dir__',\n",
       " '__doc__',\n",
       " '__eq__',\n",
       " '__format__',\n",
       " '__ge__',\n",
       " '__getattribute__',\n",
       " '__getstate__',\n",
       " '__gt__',\n",
       " '__hash__',\n",
       " '__init__',\n",
       " '__init_subclass__',\n",
       " '__invert__',\n",
       " '__le__',\n",
       " '__lt__',\n",
       " '__module__',\n",
       " '__ne__',\n",
       " '__new__',\n",
       " '__orig_bases__',\n",
       " '__parameters__',\n",
       " '__reduce__',\n",
       " '__reduce_ex__',\n",
       " '__repr__',\n",
       " '__setattr__',\n",
       " '__sizeof__',\n",
       " '__slots__',\n",
       " '__str__',\n",
       " '__subclasshook__',\n",
       " '__visit_name__',\n",
       " '__weakref__',\n",
       " '_all_selected_columns',\n",
       " '_annotate',\n",
       " '_annotations',\n",
       " '_annotations_cache_key',\n",
       " '_anonymous_fromclause',\n",
       " '_assert_no_memoizations',\n",
       " '_autoincrement_column',\n",
       " '_autoload',\n",
       " '_cache_key_traversal',\n",
       " '_clone',\n",
       " '_cloned_set',\n",
       " '_cols_populated',\n",
       " '_columns',\n",
       " '_compile_w_cache',\n",
       " '_compiler',\n",
       " '_compiler_dispatch',\n",
       " '_constructor',\n",
       " '_copy_internals',\n",
       " '_de_clone',\n",
       " '_deannotate',\n",
       " '_dialect_kwargs_traverse_internals',\n",
       " '_execute_on_connection',\n",
       " '_execute_on_scalar',\n",
       " '_extra_dependencies',\n",
       " '_extra_kwargs',\n",
       " '_from_objects',\n",
       " '_gen_annotations_cache_key',\n",
       " '_gen_cache_key',\n",
       " '_gen_static_annotations_cache_key',\n",
       " '_generate_cache_attrs',\n",
       " '_generate_cache_key',\n",
       " '_generate_cache_key_for_object',\n",
       " '_generate_compiler_dispatch',\n",
       " '_generate_fromclause_column_proxies',\n",
       " '_generated_get_children_traversal',\n",
       " '_get_embedded_bindparams',\n",
       " '_hide_froms',\n",
       " '_hierarchy_supports_caching',\n",
       " '_init_collections',\n",
       " '_init_existing',\n",
       " '_init_items',\n",
       " '_is_bind_parameter',\n",
       " '_is_clause_list',\n",
       " '_is_clone_of',\n",
       " '_is_column_element',\n",
       " '_is_from_clause',\n",
       " '_is_from_container',\n",
       " '_is_has_cache_key',\n",
       " '_is_immutable',\n",
       " '_is_join',\n",
       " '_is_keyed_column_element',\n",
       " '_is_lambda_element',\n",
       " '_is_lateral',\n",
       " '_is_lexical_equivalent',\n",
       " '_is_protocol',\n",
       " '_is_returns_rows',\n",
       " '_is_select_base',\n",
       " '_is_select_container',\n",
       " '_is_select_statement',\n",
       " '_is_singleton_constant',\n",
       " '_is_star',\n",
       " '_is_subquery',\n",
       " '_is_table',\n",
       " '_is_text_clause',\n",
       " '_is_textual',\n",
       " '_kw_reg_for_dialect_cls',\n",
       " '_kw_registry',\n",
       " '_memoized_keys',\n",
       " '_negate',\n",
       " '_negate_in_binary',\n",
       " '_new',\n",
       " '_order_by_label_element',\n",
       " '_original_compiler_dispatch',\n",
       " '_populate_column_collection',\n",
       " '_post_inspect',\n",
       " '_prefixes',\n",
       " '_propagate_attrs',\n",
       " '_refresh_for_new_column',\n",
       " '_replace_params',\n",
       " '_reset_column_collection',\n",
       " '_reset_exported',\n",
       " '_reset_memoizations',\n",
       " '_role_name',\n",
       " '_schema_item_copy',\n",
       " '_select_iterable',\n",
       " '_sentinel_column',\n",
       " '_sentinel_column_characteristics',\n",
       " '_set_memoized_attribute',\n",
       " '_set_parent',\n",
       " '_set_parent_with_dispatch',\n",
       " '_set_propagate_attrs',\n",
       " '_sorted_constraints',\n",
       " '_traverse_internals',\n",
       " '_ungroup',\n",
       " '_use_schema_map',\n",
       " '_validate_dialect_kwargs',\n",
       " '_with_annotations',\n",
       " '_with_binary_element_type',\n",
       " 'add_is_dependent_on',\n",
       " 'alias',\n",
       " 'allows_lambda',\n",
       " 'append_column',\n",
       " 'append_constraint',\n",
       " 'argument_for',\n",
       " 'autoincrement_column',\n",
       " 'c',\n",
       " 'columns',\n",
       " 'comment',\n",
       " 'compare',\n",
       " 'compile',\n",
       " 'constraints',\n",
       " 'corresponding_column',\n",
       " 'create',\n",
       " 'create_drop_stringify_dialect',\n",
       " 'delete',\n",
       " 'description',\n",
       " 'dialect_kwargs',\n",
       " 'dialect_options',\n",
       " 'dispatch',\n",
       " 'drop',\n",
       " 'entity_namespace',\n",
       " 'exported_columns',\n",
       " 'foreign_key_constraints',\n",
       " 'foreign_keys',\n",
       " 'fullname',\n",
       " 'get_children',\n",
       " 'implicit_returning',\n",
       " 'indexes',\n",
       " 'info',\n",
       " 'inherit_cache',\n",
       " 'insert',\n",
       " 'is_clause_element',\n",
       " 'is_derived_from',\n",
       " 'is_dml',\n",
       " 'is_selectable',\n",
       " 'join',\n",
       " 'key',\n",
       " 'kwargs',\n",
       " 'lateral',\n",
       " 'memoized_attribute',\n",
       " 'memoized_instancemethod',\n",
       " 'metadata',\n",
       " 'name',\n",
       " 'named_with_column',\n",
       " 'outerjoin',\n",
       " 'params',\n",
       " 'primary_key',\n",
       " 'replace_selectable',\n",
       " 'schema',\n",
       " 'select',\n",
       " 'selectable',\n",
       " 'self_group',\n",
       " 'stringify_dialect',\n",
       " 'supports_execution',\n",
       " 'table_valued',\n",
       " 'tablesample',\n",
       " 'to_metadata',\n",
       " 'tometadata',\n",
       " 'unique_params',\n",
       " 'update',\n",
       " 'uses_inspection']"
      ]
     },
     "execution_count": 48,
     "metadata": {},
     "output_type": "execute_result"
    }
   ],
   "source": [
    "dir(t)"
   ]
  },
  {
   "cell_type": "code",
   "execution_count": null,
   "metadata": {},
   "outputs": [],
   "source": []
  }
 ],
 "metadata": {
  "kernelspec": {
   "display_name": "p10",
   "language": "python",
   "name": "python3"
  },
  "language_info": {
   "codemirror_mode": {
    "name": "ipython",
    "version": 3
   },
   "file_extension": ".py",
   "mimetype": "text/x-python",
   "name": "python",
   "nbconvert_exporter": "python",
   "pygments_lexer": "ipython3",
   "version": "3.10.13"
  }
 },
 "nbformat": 4,
 "nbformat_minor": 2
}
