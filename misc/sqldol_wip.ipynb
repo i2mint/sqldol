{
 "cells": [
  {
   "cell_type": "code",
   "execution_count": null,
   "metadata": {},
   "outputs": [],
   "source": []
  },
  {
   "cell_type": "markdown",
   "metadata": {},
   "source": [
    "# Steps towards developing a postgres dol"
   ]
  },
  {
   "cell_type": "markdown",
   "metadata": {},
   "source": [
    "We're going to need a database to play with, so first let's get that! \n",
    "\n",
    "We don't like to show secrets in our code, so we'll use [config2py](https://pypi.org/project/config2py/) to specify our DB keys."
   ]
  },
  {
   "cell_type": "code",
   "execution_count": 5,
   "metadata": {},
   "outputs": [],
   "source": [
    "import config2py\n",
    "\n",
    "POSTGRESS_TEST_DB_URL = config2py.config_getter('POSTGRESS_TEST_DB_URL')"
   ]
  },
  {
   "cell_type": "markdown",
   "metadata": {},
   "source": [
    "## SQLAlchemy"
   ]
  },
  {
   "cell_type": "markdown",
   "metadata": {},
   "source": [
    "We'll use [SQLAlchemy](https://pypi.org/project/SQLAlchemy/) to interface with postgress from python.\n",
    "\n",
    "Let's first look at what this sqlalchemy interface looks like with our test table, \n",
    "doing some basic operations that we'll won't to DOLify later."
   ]
  },
  {
   "cell_type": "markdown",
   "metadata": {},
   "source": [
    "### get list of table names"
   ]
  },
  {
   "cell_type": "code",
   "execution_count": 4,
   "metadata": {},
   "outputs": [
    {
     "name": "stderr",
     "output_type": "stream",
     "text": [
      "/var/folders/mc/c070wfh51kxd9lft8dl74q1r0000gn/T/ipykernel_65051/1019456399.py:7: SADeprecationWarning: The from_engine() method on Inspector is deprecated and will be removed in a future release.  Please use the sqlalchemy.inspect() function on an Engine or Connection in order to acquire an Inspector. (deprecated since: 1.4)\n",
      "  inspector = Inspector.from_engine(engine)\n"
     ]
    },
    {
     "name": "stdout",
     "output_type": "stream",
     "text": [
      "['app', 'prompt_template', 'users']\n"
     ]
    }
   ],
   "source": [
    "from sqlalchemy import create_engine\n",
    "from sqlalchemy.engine.reflection import Inspector\n",
    "\n",
    "# Replace the placeholder values with your actual database credentials\n",
    "engine = create_engine(POSTGRESS_TEST_DB_URL)\n",
    "\n",
    "inspector = Inspector.from_engine(engine)\n",
    "\n",
    "# List table names\n",
    "table_names = inspector.get_table_names()\n",
    "print(table_names)"
   ]
  },
  {
   "cell_type": "markdown",
   "metadata": {},
   "source": [
    "## Get rows for a given table and selector"
   ]
  },
  {
   "cell_type": "markdown",
   "metadata": {},
   "source": [
    "In a given table, get a generator the will yield rows given a selector (selection logic), by default the \"everything\" selector, yielding all rows"
   ]
  },
  {
   "cell_type": "code",
   "execution_count": 7,
   "metadata": {},
   "outputs": [],
   "source": [
    "from sqlalchemy import create_engine, Column, Integer, String, Float\n",
    "from sqlalchemy.orm import declarative_base, sessionmaker, Session\n",
    "\n",
    "engine = create_engine(POSTGRESS_TEST_DB_URL)\n",
    "\n",
    "SessionLocal = sessionmaker(autocommit=False, autoflush=False, bind=engine)\n",
    "\n",
    "# Déclaration de la base pour la définition des modèles SQLAlchemy\n",
    "Base = declarative_base()\n",
    "\n",
    "class User(Base) :\n",
    "    __tablename__ = \"user\"\n",
    "    id = Column(Integer, primary_key=True)\n",
    "    name = Column(String, index=True)\n",
    "    token = Column(String, index=True)\n",
    "\n",
    "class App(Base) :\n",
    "    __tablename__ = \"app\"\n",
    "    id = Column(Integer, primary_key=True, index=True)\n",
    "    name = Column(String, index=True)\n",
    "\n",
    "class AppPermission(Base) :\n",
    "    __tablename__ = \"app_permission\"\n",
    "    id = Column(Integer, primary_key=True, index=True)\n",
    "    user_id = Column(Integer)\n",
    "    app_id = Column(Integer)\n",
    "\n",
    "class PromptTemplate(Base) :\n",
    "    __tablename__ = \"prompt_template\"\n",
    "    id = Column(Integer, primary_key=True)\n",
    "    name = Column(String)\n",
    "    template = Column(String)\n",
    "    rjsf_ui = Column(String)"
   ]
  },
  {
   "cell_type": "code",
   "execution_count": 39,
   "metadata": {},
   "outputs": [
    {
     "name": "stdout",
     "output_type": "stream",
     "text": [
      "type(cursor)=<class 'sqlalchemy.engine.result.ChunkedIteratorResult'>\n",
      "isinstance(cursor, Generator)=False\n",
      "isinstance(cursor, Iterator)=True\n",
      "isinstance(cursor, Iterable)=True\n"
     ]
    }
   ],
   "source": [
    "from sqlalchemy.orm import sessionmaker\n",
    "from sqlalchemy import select, text\n",
    "\n",
    "Session = sessionmaker(bind=engine)\n",
    "session = Session()\n",
    "\n",
    "# Selection logic, by default fetching all\n",
    "query = select(PromptTemplate).filter()  # Adjust the number per your needs\n",
    "\n",
    "# for row in session.execute(query):\n",
    "#     print(row)\n",
    "\n",
    "cursor = session.execute(query)\n",
    "\n",
    "print(f\"{type(cursor)=}\")\n",
    "\n",
    "from typing import Iterator, Iterable, Generator\n",
    "print(f\"{isinstance(cursor, Generator)=}\")\n",
    "print(f\"{isinstance(cursor, Iterator)=}\")  # has __next__ method (so can do next(cursor))\n",
    "print(f\"{isinstance(cursor, Iterable)=}\")  # has __iter__ method (so can do for x in cursor...)\n"
   ]
  },
  {
   "cell_type": "code",
   "execution_count": 42,
   "metadata": {},
   "outputs": [
    {
     "name": "stdout",
     "output_type": "stream",
     "text": [
      "(1, 'Template1', 'Template content 1', '{\"ui\": \"ui_content_1\"}')\n",
      "(2, 'Template2', 'Template content 2', '{\"ui\": \"ui_content_2\"}')\n",
      "(3, 'Template3', 'Template content 3', '{\"ui\": \"ui_content_3\"}')\n",
      "(4, 'Template1', 'Template content 1', '{\"ui\": \"ui_content_1\"}')\n",
      "(5, 'Template2', 'Template content 2', '{\"ui\": \"ui_content_2\"}')\n",
      "(6, 'Template3', 'Template content 3', '{\"ui\": \"ui_content_3\"}')\n"
     ]
    }
   ],
   "source": [
    "from sqlalchemy import create_engine, Table, MetaData, select\n",
    "\n",
    "metadata = MetaData()\n",
    "\n",
    "# Reflect the table from the database\n",
    "prompt_template_table = Table('prompt_template', metadata, autoload_with=engine)\n",
    "\n",
    "# Now you can use this table object to construct a query\n",
    "query = select(prompt_template_table)\n",
    "\n",
    "# Execute the query\n",
    "with engine.connect() as connection:\n",
    "    result = connection.execute(query)\n",
    "    for row in result:\n",
    "        print(row)  # Each row is a RowProxy object that allows for column access by name\n"
   ]
  },
  {
   "cell_type": "markdown",
   "metadata": {},
   "source": [
    "## My first (read only) DOL"
   ]
  },
  {
   "cell_type": "code",
   "execution_count": 95,
   "metadata": {},
   "outputs": [],
   "source": [
    "from typing import Mapping, Sized, Iterable\n",
    "\n",
    "class PostgresTableRows(Sized, Iterable):\n",
    "    def __init__(self, engine, table_name):\n",
    "        self.engine = engine\n",
    "        self.table_name = table_name\n",
    "        self.metadata = MetaData()\n",
    "        self.table = Table(self.table_name, self.metadata, autoload_with=self.engine)\n",
    "\n",
    "    def __iter__(self):\n",
    "        query = select(self.table)\n",
    "        with self.engine.connect() as connection:\n",
    "            result = connection.execute(query)\n",
    "            for row in result:\n",
    "                yield row\n",
    "\n",
    "    def __len__(self):\n",
    "        query = select(self.table)\n",
    "        with self.engine.connect() as connection:\n",
    "            result = connection.execute(query)\n",
    "            return result.rowcount\n",
    "        \n",
    "class PostgresBaseColumnsReader(Mapping):\n",
    "    \"\"\"Here, keys are column names and values are column values\"\"\"\n",
    "    def __init__(self, engine, table_name):\n",
    "        self.engine = engine\n",
    "        self.table_name = table_name\n",
    "        self.metadata = MetaData()\n",
    "        self.table = Table(self.table_name, self.metadata, autoload_with=self.engine)\n",
    "        \n",
    "    def __iter__(self):\n",
    "        return (column_obj.name for column_obj in self.table.columns)\n",
    "    \n",
    "    def __len__(self):\n",
    "        return len(self.table.columns)\n",
    "    \n",
    "    def __getitem__(self, key):\n",
    "        # TODO: Finish\n",
    "        query = select(self.table).with_only_columns([self.table.c[key]])\n",
    "        with self.engine.connect() as connection:\n",
    "            result = connection.execute(query)\n",
    "            return result.fetchall()\n",
    "    \n",
    "\n",
    "from typing import Callable  \n",
    "\n",
    "\n",
    "class PostgresBaseKvReader(Mapping):\n",
    "    \"\"\"A mapping view of a table, \n",
    "    where keys are values from a key column and values are values from a value column.\n",
    "    There's also a filter function that can be used to filter the rows.\n",
    "    \"\"\"\n",
    "    def __init__(\n",
    "            self, engine, table_name, \n",
    "            key_columns=None, \n",
    "            value_columns=None,\n",
    "            filt=None\n",
    "        ):\n",
    "        self.engine = engine\n",
    "        self.table_name = table_name\n",
    "        self.metadata = MetaData()\n",
    "        self.table = Table(self.table_name, self.metadata, autoload_with=self.engine)\n",
    "        self.filt = filt\n",
    "\n",
    "    def __iter__(self):\n",
    "        query = select(self.table)\n",
    "        with self.engine.connect() as connection:\n",
    "            result = connection.execute(query)\n",
    "            for row in result:\n",
    "                yield row\n",
    "\n",
    "    def __len__(self):\n",
    "        query = select(self.table)\n",
    "        with self.engine.connect() as connection:\n",
    "            result = connection.execute(query)\n",
    "            return result.rowcount\n",
    "        \n",
    "    def __getitem__(self, key):\n",
    "        query = select(self.table)\n",
    "        with self.engine.connect() as connection:\n",
    "            result = connection.execute(query)\n",
    "            return result.fetchall()\n",
    "        \n",
    "        \n",
    "class PostgressTables(Mapping):\n",
    "    def __init__(self, engine):\n",
    "        self.engine = engine\n",
    "        self.metadata = MetaData()\n",
    "        self.metadata.reflect(bind=self.engine)\n",
    "\n",
    "    def __getitem__(self, key):\n",
    "        return PostgresBaseKvReader(self.engine, key)\n",
    "        # Or do something with this:\n",
    "        # return self.metadata.tables[key]\n",
    "\n",
    "    def __iter__(self):\n",
    "        return iter(self.metadata.tables)\n",
    "\n",
    "    def __len__(self):\n",
    "        return len(self.metadata.tables)\n"
   ]
  },
  {
   "cell_type": "code",
   "execution_count": 79,
   "metadata": {},
   "outputs": [
    {
     "data": {
      "text/plain": [
       "[(1, 'Template1', 'Template content 1', '{\"ui\": \"ui_content_1\"}'),\n",
       " (2, 'Template2', 'Template content 2', '{\"ui\": \"ui_content_2\"}'),\n",
       " (3, 'Template3', 'Template content 3', '{\"ui\": \"ui_content_3\"}'),\n",
       " (4, 'Template1', 'Template content 1', '{\"ui\": \"ui_content_1\"}'),\n",
       " (5, 'Template2', 'Template content 2', '{\"ui\": \"ui_content_2\"}'),\n",
       " (6, 'Template3', 'Template content 3', '{\"ui\": \"ui_content_3\"}')]"
      ]
     },
     "execution_count": 79,
     "metadata": {},
     "output_type": "execute_result"
    }
   ],
   "source": [
    "t = PostgresTableRows(engine, 'prompt_template')    \n",
    "list(t)\n"
   ]
  },
  {
   "cell_type": "code",
   "execution_count": null,
   "metadata": {},
   "outputs": [],
   "source": [
    "user, prompt_template_name, prompt_template_string, rjsf_ui_spec\n",
    "\n",
    "key-value views\n",
    "--> user_prompt_templates\n",
    "--> user_rjsf_ui_spec"
   ]
  },
  {
   "cell_type": "code",
   "execution_count": null,
   "metadata": {},
   "outputs": [],
   "source": [
    "from raglab.stores.simple_stores"
   ]
  },
  {
   "cell_type": "code",
   "execution_count": null,
   "metadata": {},
   "outputs": [],
   "source": [
    "def PostgresBaseKvReader(Mapping):\n",
    "    \"\"\"A mapping view of a table, \n",
    "    where keys are values from a key column and values are values from a value column.\n",
    "    There's also a filter function that can be used to filter the rows.\n",
    "    \"\"\"\n",
    "    def __init__(\n",
    "            self, engine, table_name, \n",
    "            key_column=None, \n",
    "            value_column=None, \n",
    "            filt=None"
   ]
  },
  {
   "cell_type": "code",
   "execution_count": 96,
   "metadata": {},
   "outputs": [
    {
     "data": {
      "text/plain": [
       "['id', 'name', 'template', 'rjsf_ui']"
      ]
     },
     "execution_count": 96,
     "metadata": {},
     "output_type": "execute_result"
    }
   ],
   "source": [
    "t = PostgresBaseColumnsReader(engine, 'prompt_template')\n",
    "list(t)\n"
   ]
  },
  {
   "cell_type": "code",
   "execution_count": null,
   "metadata": {},
   "outputs": [],
   "source": [
    "user_prompt_templates = MkUserPromptTemplateStore(user, ...)\n",
    "\n",
    "list(user_prompt_templates)\n",
    "user_prompt_templates['prompt_template_id']\n",
    "user_prompt_templates['prompt_template_id'] = 'my prompt template'\n",
    "\n"
   ]
  },
  {
   "cell_type": "code",
   "execution_count": null,
   "metadata": {},
   "outputs": [],
   "source": []
  },
  {
   "cell_type": "code",
   "execution_count": 110,
   "metadata": {},
   "outputs": [
    {
     "data": {
      "text/plain": [
       "1"
      ]
     },
     "execution_count": 110,
     "metadata": {},
     "output_type": "execute_result"
    }
   ],
   "source": [
    "# d = {'a': 1, 'b': 2}\n",
    "\n",
    "# d.__getitem__('a')\n",
    "\n",
    "\n",
    "# mk_app({user_store, methods=['__getitem__', '__setitem__']})\n",
    "\n",
    "# ./user_store/prompt_templates/__getitem__?key=a"
   ]
  },
  {
   "cell_type": "code",
   "execution_count": 127,
   "metadata": {},
   "outputs": [
    {
     "ename": "NameError",
     "evalue": "name 'user' is not defined",
     "output_type": "error",
     "traceback": [
      "\u001b[0;31m---------------------------------------------------------------------------\u001b[0m",
      "\u001b[0;31mNameError\u001b[0m                                 Traceback (most recent call last)",
      "Cell \u001b[0;32mIn[127], line 1\u001b[0m\n\u001b[0;32m----> 1\u001b[0m \u001b[43muser\u001b[49m, name, prompt_template_str, rjsf_ui_spec\n",
      "\u001b[0;31mNameError\u001b[0m: name 'user' is not defined"
     ]
    }
   ],
   "source": [
    "user, name, prompt_template_str, rjsf_ui_spec\n",
    "\n"
   ]
  },
  {
   "cell_type": "code",
   "execution_count": 59,
   "metadata": {},
   "outputs": [
    {
     "data": {
      "text/plain": [
       "['app', 'prompt_template', 'users']"
      ]
     },
     "execution_count": 59,
     "metadata": {},
     "output_type": "execute_result"
    }
   ],
   "source": [
    "tables = PostgressTables(engine)\n",
    "list(tables)"
   ]
  },
  {
   "cell_type": "code",
   "execution_count": 51,
   "metadata": {},
   "outputs": [],
   "source": [
    "t = tables['prompt_template']\n"
   ]
  },
  {
   "cell_type": "code",
   "execution_count": 54,
   "metadata": {},
   "outputs": [
    {
     "data": {
      "text/plain": [
       "[(1, 'Template1', 'Template content 1', '{\"ui\": \"ui_content_1\"}'),\n",
       " (2, 'Template2', 'Template content 2', '{\"ui\": \"ui_content_2\"}'),\n",
       " (3, 'Template3', 'Template content 3', '{\"ui\": \"ui_content_3\"}'),\n",
       " (4, 'Template1', 'Template content 1', '{\"ui\": \"ui_content_1\"}'),\n",
       " (5, 'Template2', 'Template content 2', '{\"ui\": \"ui_content_2\"}'),\n",
       " (6, 'Template3', 'Template content 3', '{\"ui\": \"ui_content_3\"}')]"
      ]
     },
     "execution_count": 54,
     "metadata": {},
     "output_type": "execute_result"
    }
   ],
   "source": [
    "list(t)"
   ]
  },
  {
   "cell_type": "code",
   "execution_count": 48,
   "metadata": {},
   "outputs": [
    {
     "data": {
      "text/plain": [
       "['__annotations__',\n",
       " '__bool__',\n",
       " '__class__',\n",
       " '__class_getitem__',\n",
       " '__delattr__',\n",
       " '__dict__',\n",
       " '__dir__',\n",
       " '__doc__',\n",
       " '__eq__',\n",
       " '__format__',\n",
       " '__ge__',\n",
       " '__getattribute__',\n",
       " '__getstate__',\n",
       " '__gt__',\n",
       " '__hash__',\n",
       " '__init__',\n",
       " '__init_subclass__',\n",
       " '__invert__',\n",
       " '__le__',\n",
       " '__lt__',\n",
       " '__module__',\n",
       " '__ne__',\n",
       " '__new__',\n",
       " '__orig_bases__',\n",
       " '__parameters__',\n",
       " '__reduce__',\n",
       " '__reduce_ex__',\n",
       " '__repr__',\n",
       " '__setattr__',\n",
       " '__sizeof__',\n",
       " '__slots__',\n",
       " '__str__',\n",
       " '__subclasshook__',\n",
       " '__visit_name__',\n",
       " '__weakref__',\n",
       " '_all_selected_columns',\n",
       " '_annotate',\n",
       " '_annotations',\n",
       " '_annotations_cache_key',\n",
       " '_anonymous_fromclause',\n",
       " '_assert_no_memoizations',\n",
       " '_autoincrement_column',\n",
       " '_autoload',\n",
       " '_cache_key_traversal',\n",
       " '_clone',\n",
       " '_cloned_set',\n",
       " '_cols_populated',\n",
       " '_columns',\n",
       " '_compile_w_cache',\n",
       " '_compiler',\n",
       " '_compiler_dispatch',\n",
       " '_constructor',\n",
       " '_copy_internals',\n",
       " '_de_clone',\n",
       " '_deannotate',\n",
       " '_dialect_kwargs_traverse_internals',\n",
       " '_execute_on_connection',\n",
       " '_execute_on_scalar',\n",
       " '_extra_dependencies',\n",
       " '_extra_kwargs',\n",
       " '_from_objects',\n",
       " '_gen_annotations_cache_key',\n",
       " '_gen_cache_key',\n",
       " '_gen_static_annotations_cache_key',\n",
       " '_generate_cache_attrs',\n",
       " '_generate_cache_key',\n",
       " '_generate_cache_key_for_object',\n",
       " '_generate_compiler_dispatch',\n",
       " '_generate_fromclause_column_proxies',\n",
       " '_generated_get_children_traversal',\n",
       " '_get_embedded_bindparams',\n",
       " '_hide_froms',\n",
       " '_hierarchy_supports_caching',\n",
       " '_init_collections',\n",
       " '_init_existing',\n",
       " '_init_items',\n",
       " '_is_bind_parameter',\n",
       " '_is_clause_list',\n",
       " '_is_clone_of',\n",
       " '_is_column_element',\n",
       " '_is_from_clause',\n",
       " '_is_from_container',\n",
       " '_is_has_cache_key',\n",
       " '_is_immutable',\n",
       " '_is_join',\n",
       " '_is_keyed_column_element',\n",
       " '_is_lambda_element',\n",
       " '_is_lateral',\n",
       " '_is_lexical_equivalent',\n",
       " '_is_protocol',\n",
       " '_is_returns_rows',\n",
       " '_is_select_base',\n",
       " '_is_select_container',\n",
       " '_is_select_statement',\n",
       " '_is_singleton_constant',\n",
       " '_is_star',\n",
       " '_is_subquery',\n",
       " '_is_table',\n",
       " '_is_text_clause',\n",
       " '_is_textual',\n",
       " '_kw_reg_for_dialect_cls',\n",
       " '_kw_registry',\n",
       " '_memoized_keys',\n",
       " '_negate',\n",
       " '_negate_in_binary',\n",
       " '_new',\n",
       " '_order_by_label_element',\n",
       " '_original_compiler_dispatch',\n",
       " '_populate_column_collection',\n",
       " '_post_inspect',\n",
       " '_prefixes',\n",
       " '_propagate_attrs',\n",
       " '_refresh_for_new_column',\n",
       " '_replace_params',\n",
       " '_reset_column_collection',\n",
       " '_reset_exported',\n",
       " '_reset_memoizations',\n",
       " '_role_name',\n",
       " '_schema_item_copy',\n",
       " '_select_iterable',\n",
       " '_sentinel_column',\n",
       " '_sentinel_column_characteristics',\n",
       " '_set_memoized_attribute',\n",
       " '_set_parent',\n",
       " '_set_parent_with_dispatch',\n",
       " '_set_propagate_attrs',\n",
       " '_sorted_constraints',\n",
       " '_traverse_internals',\n",
       " '_ungroup',\n",
       " '_use_schema_map',\n",
       " '_validate_dialect_kwargs',\n",
       " '_with_annotations',\n",
       " '_with_binary_element_type',\n",
       " 'add_is_dependent_on',\n",
       " 'alias',\n",
       " 'allows_lambda',\n",
       " 'append_column',\n",
       " 'append_constraint',\n",
       " 'argument_for',\n",
       " 'autoincrement_column',\n",
       " 'c',\n",
       " 'columns',\n",
       " 'comment',\n",
       " 'compare',\n",
       " 'compile',\n",
       " 'constraints',\n",
       " 'corresponding_column',\n",
       " 'create',\n",
       " 'create_drop_stringify_dialect',\n",
       " 'delete',\n",
       " 'description',\n",
       " 'dialect_kwargs',\n",
       " 'dialect_options',\n",
       " 'dispatch',\n",
       " 'drop',\n",
       " 'entity_namespace',\n",
       " 'exported_columns',\n",
       " 'foreign_key_constraints',\n",
       " 'foreign_keys',\n",
       " 'fullname',\n",
       " 'get_children',\n",
       " 'implicit_returning',\n",
       " 'indexes',\n",
       " 'info',\n",
       " 'inherit_cache',\n",
       " 'insert',\n",
       " 'is_clause_element',\n",
       " 'is_derived_from',\n",
       " 'is_dml',\n",
       " 'is_selectable',\n",
       " 'join',\n",
       " 'key',\n",
       " 'kwargs',\n",
       " 'lateral',\n",
       " 'memoized_attribute',\n",
       " 'memoized_instancemethod',\n",
       " 'metadata',\n",
       " 'name',\n",
       " 'named_with_column',\n",
       " 'outerjoin',\n",
       " 'params',\n",
       " 'primary_key',\n",
       " 'replace_selectable',\n",
       " 'schema',\n",
       " 'select',\n",
       " 'selectable',\n",
       " 'self_group',\n",
       " 'stringify_dialect',\n",
       " 'supports_execution',\n",
       " 'table_valued',\n",
       " 'tablesample',\n",
       " 'to_metadata',\n",
       " 'tometadata',\n",
       " 'unique_params',\n",
       " 'update',\n",
       " 'uses_inspection']"
      ]
     },
     "execution_count": 48,
     "metadata": {},
     "output_type": "execute_result"
    }
   ],
   "source": [
    "dir(t)"
   ]
  },
  {
   "cell_type": "code",
   "execution_count": null,
   "metadata": {},
   "outputs": [],
   "source": []
  }
 ],
 "metadata": {
  "kernelspec": {
   "display_name": "p10",
   "language": "python",
   "name": "python3"
  },
  "language_info": {
   "codemirror_mode": {
    "name": "ipython",
    "version": 3
   },
   "file_extension": ".py",
   "mimetype": "text/x-python",
   "name": "python",
   "nbconvert_exporter": "python",
   "pygments_lexer": "ipython3",
   "version": "3.10.13"
  }
 },
 "nbformat": 4,
 "nbformat_minor": 2
}
