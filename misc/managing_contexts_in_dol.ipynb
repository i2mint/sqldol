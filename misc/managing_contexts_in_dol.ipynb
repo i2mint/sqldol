{
 "cells": [
  {
   "cell_type": "code",
   "execution_count": null,
   "metadata": {},
   "outputs": [],
   "source": []
  },
  {
   "cell_type": "markdown",
   "metadata": {},
   "source": [
    "# Towards an idempotent connection context manager"
   ]
  },
  {
   "cell_type": "markdown",
   "metadata": {},
   "source": [
    "Note that a more general reusable tool for managing nested contexts was attempted in the  [Not entering/exiting contexts twice when nested](https://github.com/i2mint/lkj/issues/1) issue in `lkj`, but failed for now, so was closed. \n",
    "\n",
    "Following are more (data bases) specific implementation notes:\n",
    "\n",
    "Say we have a connection class (or function/method) and a DAO using it:\n"
   ]
  },
  {
   "cell_type": "code",
   "execution_count": 8,
   "metadata": {},
   "outputs": [
    {
     "name": "stdout",
     "output_type": "stream",
     "text": [
      "Opening connection to DFLT_URI\n",
      "    Reading bob\n",
      "Closing connection to DFLT_URI\n",
      "Opening connection to DFLT_URI\n",
      "    Reading alice\n",
      "Closing connection to DFLT_URI\n"
     ]
    }
   ],
   "source": [
    "class Connection:\n",
    "    def __init__(self, uri='DFLT_URI'):\n",
    "        self.uri = uri\n",
    "\n",
    "    def __enter__(self):\n",
    "        print(f\"Opening connection to {self.uri}\")\n",
    "        return self\n",
    "\n",
    "    def __exit__(self, *exc_info):\n",
    "        print(f\"Closing connection to {self.uri}\")\n",
    "\n",
    "    open = __enter__\n",
    "    close = __exit__\n",
    "\n",
    "class DAO1:\n",
    "    def __init__(self, uri='DFLT_URI'):\n",
    "        self.connection = Connection(uri)\n",
    "\n",
    "    def read(self, k):\n",
    "        with self.connection:\n",
    "            print(f\"    Reading {k}\")\n",
    "\n",
    "dao1 = DAO1()\n",
    "dao1.read('bob')\n",
    "dao1.read('alice')\n",
    "\n",
    "\n"
   ]
  },
  {
   "cell_type": "markdown",
   "metadata": {},
   "source": [
    "If we now make our DAO a context manager itself, we get exactly the same behavior (of opening and closing the context at every read). "
   ]
  },
  {
   "cell_type": "code",
   "execution_count": 7,
   "metadata": {},
   "outputs": [
    {
     "name": "stdout",
     "output_type": "stream",
     "text": [
      "Opening connection to DFLT_URI\n",
      "    Reading bob\n",
      "Closing connection to DFLT_URI\n",
      "Opening connection to DFLT_URI\n",
      "    Reading alice\n",
      "Closing connection to DFLT_URI\n"
     ]
    }
   ],
   "source": [
    "class DAO2(DAO1):\n",
    "    def __enter__(self):\n",
    "        print(f\"DAO entry...\")\n",
    "        self.connection.__enter__()\n",
    "        return self\n",
    "\n",
    "    def __exit__(self, *exc_info):\n",
    "        print(f\"... DAO exit\")\n",
    "        self.connection.__exit__(*exc_info)\n",
    "        \n",
    "dao2 = DAO2()\n",
    "dao2.read('bob')\n",
    "dao2.read('alice')"
   ]
  },
  {
   "cell_type": "markdown",
   "metadata": {},
   "source": [
    "Additionally, we opening the connection twice in a row in the beginning, and close it twice in a row at the end. That could be a problem if our connection object doesn't like being opened when already open, or closed when already closed."
   ]
  },
  {
   "cell_type": "code",
   "execution_count": 6,
   "metadata": {},
   "outputs": [
    {
     "name": "stdout",
     "output_type": "stream",
     "text": [
      "DAO entry...\n",
      "Opening connection to DFLT_URI\n",
      "Opening connection to DFLT_URI\n",
      "    Reading bob\n",
      "Closing connection to DFLT_URI\n",
      "Opening connection to DFLT_URI\n",
      "    Reading alice\n",
      "Closing connection to DFLT_URI\n",
      "... DAO exit\n",
      "Closing connection to DFLT_URI\n"
     ]
    }
   ],
   "source": [
    "with dao2:\n",
    "    dao2.read('bob')\n",
    "    dao2.read('alice')\n"
   ]
  },
  {
   "cell_type": "markdown",
   "metadata": {},
   "source": [
    "So really, we don't get much use out of our DAO's context manager here, yet.\n",
    "\n",
    "What we'd like is for:"
   ]
  },
  {
   "cell_type": "code",
   "execution_count": 5,
   "metadata": {},
   "outputs": [
    {
     "name": "stdout",
     "output_type": "stream",
     "text": [
      "DAO entry...\n",
      "Opening connection to DFLT_URI\n",
      "    Reading bob\n",
      "    Reading alice\n",
      "... DAO exit\n",
      "Closing connection to DFLT_URI\n"
     ]
    }
   ],
   "source": [
    "class DAO3:\n",
    "    def __init__(self, uri='DFLT_URI'):\n",
    "        self.connection = Connection(uri)\n",
    "        self.connection_opened = False\n",
    "\n",
    "    def read(self, k):\n",
    "        if self.connection_opened:\n",
    "            print(f\"    Reading {k}\")\n",
    "        else:\n",
    "            with self.connection:\n",
    "                print(f\"    Reading {k}\")\n",
    "\n",
    "    def __enter__(self):\n",
    "        print(f\"DAO entry...\")\n",
    "        self.connection.__enter__()\n",
    "        self.connection_opened = True\n",
    "        return self\n",
    "\n",
    "    def __exit__(self, *exc_info):\n",
    "        print(f\"... DAO exit\")\n",
    "        self.connection_opened = False\n",
    "        return self.connection.__exit__(*exc_info)\n",
    "\n",
    "dao3 = DAO3()    \n",
    "with dao3:\n",
    "    dao3.read('bob')\n",
    "    dao3.read('alice')"
   ]
  },
  {
   "cell_type": "markdown",
   "metadata": {},
   "source": [
    "Good, we got what we wanted, but it's not super clean, nor is it reusable (we need this for other methods too (write, delete, etc.).\n",
    "\n",
    "How can I separate concerns more (the DOA object and methods, the \"don't open/close twice\"  context manager concern, etc)"
   ]
  },
  {
   "cell_type": "code",
   "execution_count": 32,
   "metadata": {},
   "outputs": [],
   "source": [
    "class Connection:\n",
    "    def __init__(self, uri='DFLT_URI'):\n",
    "        self.uri = uri\n",
    "        self.is_open = False\n",
    "\n",
    "    def open(self):\n",
    "        if not self.is_open:\n",
    "            print(f\"Opening connection to {self.uri}\")\n",
    "            self.is_open = True\n",
    "\n",
    "    def close(self):\n",
    "        if self.is_open:\n",
    "            print(f\"Closing connection to {self.uri}\")\n",
    "            self.is_open = False\n",
    "\n",
    "    __enter__ = open\n",
    "    __exit__ = close\n",
    "    \n",
    "class FlexibleConnectionManager:\n",
    "    def __init__(self, connection):\n",
    "        self.connection = connection\n",
    "        self.owns_connection = False\n",
    "\n",
    "    def __enter__(self):\n",
    "        if not self.connection.is_open:\n",
    "            self.connection.open()\n",
    "            self.owns_connection = True\n",
    "        return self.connection\n",
    "\n",
    "    def __exit__(self, exc_type, exc_val, exc_tb):\n",
    "        if self.owns_connection and self.connection.is_open:\n",
    "            self.connection.close()\n",
    "            self.owns_connection = False\n",
    "\n",
    "class DAO1:\n",
    "    def __init__(self, uri='DFLT_URI'):\n",
    "        self.connection = Connection(uri)\n",
    "\n",
    "    def read(self, k):\n",
    "        with FlexibleConnectionManager(self.connection):\n",
    "            print(f\"    Reading {k}\")\n",
    "\n",
    "    def __enter__(self):\n",
    "        self.connection_manager = FlexibleConnectionManager(self.connection)\n",
    "        return self.connection_manager.__enter__()\n",
    "\n",
    "    def __exit__(self, *exc_info):\n",
    "        self.connection_manager.__exit__(*exc_info)\n"
   ]
  },
  {
   "cell_type": "code",
   "execution_count": 23,
   "metadata": {},
   "outputs": [],
   "source": [
    "__import__('ipytest').autoconfig()  # pip install ipytest"
   ]
  },
  {
   "cell_type": "code",
   "execution_count": 36,
   "metadata": {},
   "outputs": [
    {
     "name": "stdout",
     "output_type": "stream",
     "text": [
      "\u001b[32m.\u001b[0m\u001b[32m                                                                                            [100%]\u001b[0m\n",
      "\u001b[32m\u001b[32m\u001b[1m1 passed\u001b[0m\u001b[32m in 0.00s\u001b[0m\u001b[0m\n"
     ]
    }
   ],
   "source": [
    "%%ipytest\n",
    "\n",
    "def test_dao_1(capsys):\n",
    "    dao1 = DAO1()    \n",
    "    dao1.read('bob')\n",
    "    dao1.read('alice')\n",
    "    print(\"\")\n",
    "    with dao1:\n",
    "        dao1.read('bob')\n",
    "        dao1.read('alice')\n",
    "\n",
    "    # Use capsys to capture print output\n",
    "    captured = capsys.readouterr()\n",
    "\n",
    "    # Assert against the captured output\n",
    "    assert captured.out.splitlines() == [\n",
    "        'Opening connection to DFLT_URI',\n",
    "        '    Reading bob',\n",
    "        'Closing connection to DFLT_URI',\n",
    "        'Opening connection to DFLT_URI',\n",
    "        '    Reading alice',\n",
    "        'Closing connection to DFLT_URI',\n",
    "        '',\n",
    "        'Opening connection to DFLT_URI',\n",
    "        '    Reading bob',\n",
    "        '    Reading alice',\n",
    "        'Closing connection to DFLT_URI'\n",
    "    ]"
   ]
  },
  {
   "cell_type": "code",
   "execution_count": null,
   "metadata": {},
   "outputs": [],
   "source": []
  },
  {
   "cell_type": "markdown",
   "metadata": {},
   "source": [
    "## Reusable Connection Manager"
   ]
  },
  {
   "cell_type": "markdown",
   "metadata": {},
   "source": [
    "Good. But our setup here depends on a particular Connection class whose instances record whether they're open or not. \n",
    "\n",
    "We'd like recreate this behavior with any connection context manager (or even context manager \"factory\" (a function or class that returns a context manager instance).\n"
   ]
  },
  {
   "cell_type": "code",
   "execution_count": 25,
   "metadata": {},
   "outputs": [],
   "source": [
    "class RefCountedConnectionManager:\n",
    "    def __init__(self, get_connection):\n",
    "        self.get_connection = get_connection\n",
    "        self.connection = None\n",
    "        self.ref_count = 0\n",
    "\n",
    "    def __enter__(self):\n",
    "        if self.ref_count == 0:\n",
    "            self.connection = self.get_connection()\n",
    "            self.connection.__enter__()\n",
    "        self.ref_count += 1\n",
    "        return self.connection\n",
    "\n",
    "    def __exit__(self, exc_type, exc_val, exc_tb):\n",
    "        self.ref_count -= 1\n",
    "        if self.ref_count == 0:\n",
    "            self.connection.__exit__(exc_type, exc_val, exc_tb)\n",
    "            self.connection = None\n",
    "\n",
    "class DAO:\n",
    "    def __init__(self, get_connection):\n",
    "        self.connection_manager_factory = lambda: RefCountedConnectionManager(get_connection)\n",
    "        self.connection_manager = self.connection_manager_factory()\n",
    "\n",
    "    def read(self, k):\n",
    "        with self.connection_manager:\n",
    "            print(f\"    Reading {k}\")\n",
    "\n",
    "    def __enter__(self):\n",
    "        return self.connection_manager.__enter__()\n",
    "\n",
    "    def __exit__(self, exc_type, exc_val, exc_tb):\n",
    "        self.connection_manager.__exit__(exc_type, exc_val, exc_tb)\n",
    "        # Reset the connection manager for potential reuse outside the context\n",
    "        self.connection_manager = self.connection_manager_factory()\n"
   ]
  },
  {
   "cell_type": "code",
   "execution_count": null,
   "metadata": {},
   "outputs": [],
   "source": [
    "__import__('ipytest').autoconfig()  # pip install ipytest"
   ]
  },
  {
   "cell_type": "code",
   "execution_count": 26,
   "metadata": {},
   "outputs": [
    {
     "name": "stdout",
     "output_type": "stream",
     "text": [
      "\u001b[32m.\u001b[0m\u001b[32m                                                                                            [100%]\u001b[0m\n",
      "\u001b[32m\u001b[32m\u001b[1m1 passed\u001b[0m\u001b[32m in 0.00s\u001b[0m\u001b[0m\n"
     ]
    }
   ],
   "source": [
    "%%ipytest\n",
    "\n",
    "class _TestConnection:\n",
    "    def __init__(self, uri='DFLT_URI'):\n",
    "        self.uri = uri\n",
    "\n",
    "    def __enter__(self):\n",
    "        print(f\"Opening connection to {self.uri}\")\n",
    "        return self\n",
    "\n",
    "    def __exit__(self, *exc_info):\n",
    "        print(f\"Closing connection to {self.uri}\")\n",
    "\n",
    "    open = __enter__\n",
    "    close = __exit__\n",
    "\n",
    "def test_dao(capsys):\n",
    "    dao = DAO(_TestConnection)    \n",
    "    with dao:\n",
    "        dao.read('bob')\n",
    "        dao.read('alice')\n",
    "\n",
    "    # Use capsys to capture print output\n",
    "    captured = capsys.readouterr()\n",
    "\n",
    "    # Assert against the captured output\n",
    "    assert captured.out.splitlines() == [\n",
    "        'Opening connection to DFLT_URI',\n",
    "        '    Reading bob',\n",
    "        '    Reading alice',\n",
    "        'Closing connection to DFLT_URI'\n",
    "    ]"
   ]
  },
  {
   "cell_type": "code",
   "execution_count": null,
   "metadata": {},
   "outputs": [],
   "source": []
  },
  {
   "cell_type": "code",
   "execution_count": null,
   "metadata": {},
   "outputs": [],
   "source": []
  },
  {
   "cell_type": "code",
   "execution_count": null,
   "metadata": {},
   "outputs": [],
   "source": []
  },
  {
   "cell_type": "code",
   "execution_count": null,
   "metadata": {},
   "outputs": [],
   "source": []
  },
  {
   "cell_type": "code",
   "execution_count": null,
   "metadata": {},
   "outputs": [],
   "source": []
  },
  {
   "cell_type": "code",
   "execution_count": null,
   "metadata": {},
   "outputs": [],
   "source": []
  },
  {
   "cell_type": "code",
   "execution_count": null,
   "metadata": {},
   "outputs": [],
   "source": []
  },
  {
   "cell_type": "code",
   "execution_count": null,
   "metadata": {},
   "outputs": [],
   "source": []
  },
  {
   "cell_type": "code",
   "execution_count": null,
   "metadata": {},
   "outputs": [],
   "source": []
  },
  {
   "cell_type": "markdown",
   "metadata": {},
   "source": [
    "# Scrap"
   ]
  },
  {
   "cell_type": "code",
   "execution_count": 18,
   "metadata": {},
   "outputs": [
    {
     "name": "stdout",
     "output_type": "stream",
     "text": [
      "Entering context\n",
      "Is entered? True\n",
      "Exiting context\n",
      "Is entered after with block? False\n"
     ]
    }
   ],
   "source": [
    "def track_entry_context_manager(CMClass):\n",
    "    class TrackedEntryContextManager(CMClass):\n",
    "        def __init__(self, *args, **kwargs):\n",
    "            super().__init__(*args, **kwargs)\n",
    "            self._is_entered = False  # Initialize the tracking attribute\n",
    "\n",
    "        def __enter__(self):\n",
    "            if not self.is_entered():\n",
    "                self._is_entered = True\n",
    "                return super().__enter__()\n",
    "            else:\n",
    "                return self\n",
    "\n",
    "        def __exit__(self, exc_type, exc_val, exc_tb):\n",
    "            if self.is_entered():\n",
    "                self._is_entered = False\n",
    "                return super().__exit__(exc_type, exc_val, exc_tb)\n",
    "\n",
    "        def is_entered(self):\n",
    "            return self._is_entered\n",
    "    \n",
    "    # Return the dynamically created subclass\n",
    "    return TrackedEntryContextManager\n",
    "\n",
    "# Example usage\n",
    "class MyContextManager:\n",
    "    def __enter__(self):\n",
    "        print(\"Entering context\")\n",
    "        return self\n",
    "\n",
    "    def __exit__(self, exc_type, exc_val, exc_tb):\n",
    "        print(\"Exiting context\")\n",
    "\n",
    "# Creating a subclass that tracks entry\n",
    "TrackedMyContextManager = track_entry_context_manager(MyContextManager)\n",
    "\n",
    "# Using the subclass\n",
    "with TrackedMyContextManager() as ctx:\n",
    "    print(\"Is entered?\", ctx.is_entered())  # Should print True\n",
    "print(\"Is entered after with block?\", ctx.is_entered())  # Should print False\n",
    "\n",
    "\n"
   ]
  },
  {
   "cell_type": "code",
   "execution_count": 19,
   "metadata": {},
   "outputs": [],
   "source": [
    "class IgnoreIfAlreadyOpen:\n",
    "    def __init__(self, tracked_context):\n",
    "        if not callable(getattr(tracked_context, 'is_entered', None)):\n",
    "            raise AttributeError(\n",
    "                f\"The context is not tracked. Use `track_entry_context_manager` \"\n",
    "                f\"to track it: {tracked_context}\"\n",
    "            )\n",
    "        self.tracked_context = tracked_context\n",
    "        self._entered_context = tracked_context\n",
    "\n",
    "    def __enter__(self):\n",
    "        if not self.tracked_context.is_entered():\n",
    "            self._entered_context = self.tracked_context.__enter__()\n",
    "        return self._entered_context\n",
    "        \n",
    "    def __exit__(self, *exc):\n",
    "        return self.tracked_context.__exit__(*exc)\n",
    "    "
   ]
  },
  {
   "cell_type": "code",
   "execution_count": null,
   "metadata": {},
   "outputs": [],
   "source": []
  },
  {
   "cell_type": "code",
   "execution_count": 20,
   "metadata": {},
   "outputs": [
    {
     "name": "stdout",
     "output_type": "stream",
     "text": [
      "Doing stuff with context and x=1\n",
      "Doing stuff with context and x=2\n",
      "Entering context C\n",
      "Doing stuff with context and x=3\n",
      "Doing stuff with context and x=4\n",
      "Exiting context C\n"
     ]
    }
   ],
   "source": [
    "class W:\n",
    "    def __init__(self, context):\n",
    "        self.context = context\n",
    "        self._entered = False\n",
    "\n",
    "    def __enter__(self):\n",
    "        if not self._entered:\n",
    "            self._entered = True\n",
    "            return self.context.__enter__()\n",
    "        else:\n",
    "            return self\n",
    "\n",
    "    def __exit__(self, exc_type, exc_val, exc_tb):\n",
    "        if self._entered:\n",
    "            self._entered = False\n",
    "            return self.context.__exit__(exc_type, exc_val, exc_tb)\n",
    "        else:\n",
    "            return None\n",
    "\n",
    "    def __bool__(self):\n",
    "        return self._entered\n",
    "    \n",
    "def do_stuff(context, x):\n",
    "    print(f\"Doing stuff with context and x={x}\")\n",
    "\n",
    "# Create a context manager C\n",
    "class C:\n",
    "    def __enter__(self):\n",
    "        print(\"Entering context C\")\n",
    "        return self\n",
    "\n",
    "    def __exit__(self, exc_type, exc_val, exc_tb):\n",
    "        print(\"Exiting context C\")\n",
    "\n",
    "# Wrap C in the wrapper W\n",
    "context = W(C())\n",
    "\n",
    "# Call do_stuff twice with context\n",
    "do_stuff(context, 1)\n",
    "do_stuff(context, 2)\n",
    "\n",
    "# Now use context in a with block\n",
    "with context:\n",
    "    do_stuff(context, 3)\n",
    "    do_stuff(context, 4)\n"
   ]
  },
  {
   "cell_type": "code",
   "execution_count": null,
   "metadata": {},
   "outputs": [],
   "source": []
  },
  {
   "cell_type": "code",
   "execution_count": 21,
   "metadata": {},
   "outputs": [
    {
     "ename": "NameError",
     "evalue": "name 'ManagedContext' is not defined",
     "output_type": "error",
     "traceback": [
      "\u001b[0;31m---------------------------------------------------------------------------\u001b[0m",
      "\u001b[0;31mNameError\u001b[0m                                 Traceback (most recent call last)",
      "Cell \u001b[0;32mIn[21], line 52\u001b[0m\n\u001b[1;32m     49\u001b[0m         \u001b[38;5;66;03m# Clean up your resources here\u001b[39;00m\n\u001b[1;32m     51\u001b[0m c \u001b[38;5;241m=\u001b[39m YourContextManager()\n\u001b[0;32m---> 52\u001b[0m managed_c \u001b[38;5;241m=\u001b[39m \u001b[43mManagedContext\u001b[49m(c)\n\u001b[1;32m     54\u001b[0m \u001b[38;5;66;03m# This will open and close the context each time\u001b[39;00m\n\u001b[1;32m     55\u001b[0m \u001b[38;5;28;01mdef\u001b[39;00m \u001b[38;5;21mdo_stuff\u001b[39m(context, x):\n",
      "\u001b[0;31mNameError\u001b[0m: name 'ManagedContext' is not defined"
     ]
    }
   ],
   "source": [
    "import contextlib\n",
    "\n",
    "class TrackEntry:\n",
    "    \"\"\"wraps a context manager and adds logic to track whether the context is \n",
    "    \"open\" or not. \n",
    "    This is achieved by setting a flag _is_open upon entering and exiting the context.\n",
    "    \"\"\"\n",
    "    def __init__(self, context_manager):\n",
    "        self.context_manager = context_manager\n",
    "        self._is_open = False\n",
    "\n",
    "    def __enter__(self):\n",
    "        self.context_manager.__enter__()\n",
    "        self._is_open = True\n",
    "        return self.context_manager\n",
    "\n",
    "    def __exit__(self, exc_type, exc_val, exc_tb):\n",
    "        if self._is_open and not self.is_externally_managed():\n",
    "            self.context_manager.__exit__(exc_type, exc_val, exc_tb)\n",
    "            self._is_open = False\n",
    "\n",
    "    def set_as_externally_managed(self):\n",
    "        self._externally_managed = True\n",
    "        return self\n",
    "    \n",
    "    def is_externally_managed(self):\n",
    "        return getattr(self, '_externally_managed', False)\n",
    "\n",
    "\n",
    "class IgnoreIfAlreadyOpen:\n",
    "    def __init__(self, managed_context):\n",
    "        self.managed_context = managed_context\n",
    "\n",
    "    def __enter__(self):\n",
    "        return self.managed_context.__enter__()\n",
    "\n",
    "    def __exit__(self, *exc):\n",
    "        return self.managed_context.__exit__(*exc)\n",
    "\n",
    "# Usage\n",
    "class YourContextManager:\n",
    "    def __enter__(self):\n",
    "        print(\"Entering C\")\n",
    "        # Initialize or open your resources here\n",
    "        return self\n",
    "\n",
    "    def __exit__(self, exc_type, exc_val, exc_tb):\n",
    "        print(\"Exiting C\")\n",
    "        # Clean up your resources here\n",
    "\n",
    "c = YourContextManager()\n",
    "managed_c = ManagedContext(c)\n",
    "\n",
    "# This will open and close the context each time\n",
    "def do_stuff(context, x):\n",
    "    with Wrapper(context):\n",
    "        print(f\"Doing stuff with {x}\")\n",
    "\n",
    "do_stuff(managed_c, 1)\n",
    "do_stuff(managed_c, 2)\n",
    "\n",
    "print('')\n",
    "# # This will open the context once and then reuse it\n",
    "# with Wrapper(managed_c.set_as_externally_managed()):\n",
    "#     do_stuff(managed_c, 1)\n",
    "#     do_stuff(managed_c, 2)\n",
    "\n",
    "# This will open the context once and then reuse it\n",
    "with managed_c:\n",
    "    do_stuff(managed_c, 1)\n",
    "    do_stuff(managed_c, 2)\n",
    "\n"
   ]
  },
  {
   "cell_type": "code",
   "execution_count": 17,
   "metadata": {},
   "outputs": [
    {
     "name": "stdout",
     "output_type": "stream",
     "text": [
      "Opening connection to DFLT_URI\n",
      "Opening connection to DFLT_URI\n",
      "    Reading bob\n",
      "Closing connection to DFLT_URI\n",
      "Opening connection to DFLT_URI\n",
      "    Reading alice\n",
      "Closing connection to DFLT_URI\n",
      "Closing connection to DFLT_URI\n",
      "\n",
      "Opening connection to DFLT_URI\n",
      "    Reading bob\n",
      "Closing connection to DFLT_URI\n",
      "Opening connection to DFLT_URI\n",
      "    Reading alice\n",
      "Closing connection to DFLT_URI\n"
     ]
    }
   ],
   "source": [
    "class TestConnection:\n",
    "    def __init__(self, uri='DFLT_URI'):\n",
    "        self.uri = uri\n",
    "\n",
    "    def __enter__(self):\n",
    "        print(f\"Opening connection to {self.uri}\")\n",
    "        return self\n",
    "\n",
    "    def __exit__(self, *exc_info):\n",
    "        print(f\"Closing connection to {self.uri}\")\n",
    "\n",
    "    open = __enter__\n",
    "    close = __exit__\n",
    "\n",
    "\n",
    "dao = DAO(TestConnection)    \n",
    "with dao:\n",
    "    dao.read('bob')\n",
    "    dao.read('alice')\n",
    "print(\"\")\n",
    "dao.read('bob')\n",
    "dao.read('alice')"
   ]
  },
  {
   "cell_type": "code",
   "execution_count": null,
   "metadata": {},
   "outputs": [],
   "source": []
  },
  {
   "cell_type": "code",
   "execution_count": null,
   "metadata": {},
   "outputs": [],
   "source": []
  },
  {
   "cell_type": "code",
   "execution_count": null,
   "metadata": {},
   "outputs": [],
   "source": [
    "# Opening connection to DFLT_URI\n",
    "#     Reading bob\n",
    "#     Reading alice\n",
    "# Closing connection to DFLT_URI\n",
    "\n",
    "# Opening connection to DFLT_URI\n",
    "#     Reading bob\n",
    "# Closing connection to DFLT_URI\n",
    "# Opening connection to DFLT_URI\n",
    "#     Reading alice\n",
    "# Closing connection to DFLT_URI"
   ]
  },
  {
   "cell_type": "code",
   "execution_count": 14,
   "metadata": {},
   "outputs": [
    {
     "name": "stdout",
     "output_type": "stream",
     "text": [
      "True\n"
     ]
    }
   ],
   "source": [
    "from contextlib import AbstractContextManager\n",
    "\n",
    "# print(isinstance(fp, AbstractContextManager))\n",
    "\n"
   ]
  },
  {
   "cell_type": "code",
   "execution_count": null,
   "metadata": {},
   "outputs": [],
   "source": [
    "from typing import Callable\n",
    "from contextlib import AbstractContextManager\n",
    "\n",
    "class DAO:\n",
    "    def __init__(self, get_connection: Callable[[], AbstractContextManager]):\n",
    "        self.get_connection = get_connection\n",
    "\n",
    "    def read(self, k):\n",
    "        with FlexibleConnectionManager(self.get_connection()):\n",
    "            print(f\"    Reading {k}\")\n",
    "\n",
    "    def __enter__(self):\n",
    "        self.connection_manager = FlexibleConnectionManager(self.get_connection())\n",
    "        return self.connection_manager.__enter__()\n",
    "\n",
    "    def __exit__(self, *exc_info):\n",
    "        self.connection_manager.__exit__(*exc_info)\n",
    "\n",
    "    "
   ]
  },
  {
   "cell_type": "markdown",
   "metadata": {},
   "source": [
    "# Scrap"
   ]
  },
  {
   "cell_type": "code",
   "execution_count": null,
   "metadata": {},
   "outputs": [
    {
     "name": "stdout",
     "output_type": "stream",
     "text": [
      "Entering context\n",
      "Is entered? True\n",
      "Exiting context\n",
      "Is entered after with block? False\n"
     ]
    }
   ],
   "source": [
    "def track_entry_context_manager(CMClass):\n",
    "    class TrackedEntryContextManager(CMClass):\n",
    "        def __init__(self, *args, **kwargs):\n",
    "            super().__init__(*args, **kwargs)\n",
    "            self._is_entered = False  # Initialize the tracking attribute\n",
    "\n",
    "        def __enter__(self):\n",
    "            if not self.is_entered():\n",
    "                self._is_entered = True\n",
    "                return super().__enter__()\n",
    "            else:\n",
    "                return self\n",
    "\n",
    "        def __exit__(self, exc_type, exc_val, exc_tb):\n",
    "            if self.is_entered():\n",
    "                self._is_entered = False\n",
    "                return super().__exit__(exc_type, exc_val, exc_tb)\n",
    "\n",
    "        def is_entered(self):\n",
    "            return self._is_entered\n",
    "    \n",
    "    # Return the dynamically created subclass\n",
    "    return TrackedEntryContextManager\n",
    "\n",
    "# Example usage\n",
    "class MyContextManager:\n",
    "    def __enter__(self):\n",
    "        print(\"Entering context\")\n",
    "        return self\n",
    "\n",
    "    def __exit__(self, exc_type, exc_val, exc_tb):\n",
    "        print(\"Exiting context\")\n",
    "\n",
    "# Creating a subclass that tracks entry\n",
    "TrackedMyContextManager = track_entry_context_manager(MyContextManager)\n",
    "\n",
    "# Using the subclass\n",
    "with TrackedMyContextManager() as ctx:\n",
    "    print(\"Is entered?\", ctx.is_entered())  # Should print True\n",
    "print(\"Is entered after with block?\", ctx.is_entered())  # Should print False\n",
    "\n",
    "\n"
   ]
  },
  {
   "cell_type": "code",
   "execution_count": null,
   "metadata": {},
   "outputs": [],
   "source": [
    "class IgnoreIfAlreadyOpen:\n",
    "    def __init__(self, tracked_context):\n",
    "        if not callable(getattr(tracked_context, 'is_entered', None)):\n",
    "            raise AttributeError(\n",
    "                f\"The context is not tracked. Use `track_entry_context_manager` \"\n",
    "                f\"to track it: {tracked_context}\"\n",
    "            )\n",
    "        self.tracked_context = tracked_context\n",
    "        self._entered_context = tracked_context\n",
    "\n",
    "    def __enter__(self):\n",
    "        if not self.tracked_context.is_entered():\n",
    "            self._entered_context = self.tracked_context.__enter__()\n",
    "        return self._entered_context\n",
    "        \n",
    "    def __exit__(self, *exc):\n",
    "        return self.tracked_context.__exit__(*exc)\n",
    "    "
   ]
  },
  {
   "cell_type": "code",
   "execution_count": null,
   "metadata": {},
   "outputs": [],
   "source": []
  },
  {
   "cell_type": "code",
   "execution_count": null,
   "metadata": {},
   "outputs": [
    {
     "name": "stdout",
     "output_type": "stream",
     "text": [
      "Doing stuff with context and x=1\n",
      "Doing stuff with context and x=2\n",
      "Entering context C\n",
      "Doing stuff with context and x=3\n",
      "Doing stuff with context and x=4\n",
      "Exiting context C\n"
     ]
    }
   ],
   "source": [
    "class W:\n",
    "    def __init__(self, context):\n",
    "        self.context = context\n",
    "        self._entered = False\n",
    "\n",
    "    def __enter__(self):\n",
    "        if not self._entered:\n",
    "            self._entered = True\n",
    "            return self.context.__enter__()\n",
    "        else:\n",
    "            return self\n",
    "\n",
    "    def __exit__(self, exc_type, exc_val, exc_tb):\n",
    "        if self._entered:\n",
    "            self._entered = False\n",
    "            return self.context.__exit__(exc_type, exc_val, exc_tb)\n",
    "        else:\n",
    "            return None\n",
    "\n",
    "    def __bool__(self):\n",
    "        return self._entered\n",
    "    \n",
    "def do_stuff(context, x):\n",
    "    print(f\"Doing stuff with context and x={x}\")\n",
    "\n",
    "# Create a context manager C\n",
    "class C:\n",
    "    def __enter__(self):\n",
    "        print(\"Entering context C\")\n",
    "        return self\n",
    "\n",
    "    def __exit__(self, exc_type, exc_val, exc_tb):\n",
    "        print(\"Exiting context C\")\n",
    "\n",
    "# Wrap C in the wrapper W\n",
    "context = W(C())\n",
    "\n",
    "# Call do_stuff twice with context\n",
    "do_stuff(context, 1)\n",
    "do_stuff(context, 2)\n",
    "\n",
    "# Now use context in a with block\n",
    "with context:\n",
    "    do_stuff(context, 3)\n",
    "    do_stuff(context, 4)\n"
   ]
  },
  {
   "cell_type": "code",
   "execution_count": null,
   "metadata": {},
   "outputs": [],
   "source": []
  },
  {
   "cell_type": "code",
   "execution_count": null,
   "metadata": {},
   "outputs": [
    {
     "name": "stdout",
     "output_type": "stream",
     "text": [
      "Entering C\n",
      "Doing stuff with 1\n",
      "Exiting C\n",
      "Entering C\n",
      "Doing stuff with 2\n",
      "Exiting C\n",
      "\n",
      "Entering C\n",
      "Doing stuff with 1\n",
      "Exiting C\n",
      "Entering C\n",
      "Doing stuff with 2\n",
      "Exiting C\n"
     ]
    }
   ],
   "source": [
    "import contextlib\n",
    "\n",
    "class TrackEntry:\n",
    "    \"\"\"wraps a context manager and adds logic to track whether the context is \n",
    "    \"open\" or not. \n",
    "    This is achieved by setting a flag _is_open upon entering and exiting the context.\n",
    "    \"\"\"\n",
    "    def __init__(self, context_manager):\n",
    "        self.context_manager = context_manager\n",
    "        self._is_open = False\n",
    "\n",
    "    def __enter__(self):\n",
    "        self.context_manager.__enter__()\n",
    "        self._is_open = True\n",
    "        return self.context_manager\n",
    "\n",
    "    def __exit__(self, exc_type, exc_val, exc_tb):\n",
    "        if self._is_open and not self.is_externally_managed():\n",
    "            self.context_manager.__exit__(exc_type, exc_val, exc_tb)\n",
    "            self._is_open = False\n",
    "\n",
    "    def set_as_externally_managed(self):\n",
    "        self._externally_managed = True\n",
    "        return self\n",
    "    \n",
    "    def is_externally_managed(self):\n",
    "        return getattr(self, '_externally_managed', False)\n",
    "\n",
    "\n",
    "class IgnoreIfAlreadyOpen:\n",
    "    def __init__(self, managed_context):\n",
    "        self.managed_context = managed_context\n",
    "\n",
    "    def __enter__(self):\n",
    "        return self.managed_context.__enter__()\n",
    "\n",
    "    def __exit__(self, *exc):\n",
    "        return self.managed_context.__exit__(*exc)\n",
    "\n",
    "# Usage\n",
    "class YourContextManager:\n",
    "    def __enter__(self):\n",
    "        print(\"Entering C\")\n",
    "        # Initialize or open your resources here\n",
    "        return self\n",
    "\n",
    "    def __exit__(self, exc_type, exc_val, exc_tb):\n",
    "        print(\"Exiting C\")\n",
    "        # Clean up your resources here\n",
    "\n",
    "c = YourContextManager()\n",
    "managed_c = ManagedContext(c)\n",
    "\n",
    "# This will open and close the context each time\n",
    "def do_stuff(context, x):\n",
    "    with Wrapper(context):\n",
    "        print(f\"Doing stuff with {x}\")\n",
    "\n",
    "do_stuff(managed_c, 1)\n",
    "do_stuff(managed_c, 2)\n",
    "\n",
    "print('')\n",
    "# # This will open the context once and then reuse it\n",
    "# with Wrapper(managed_c.set_as_externally_managed()):\n",
    "#     do_stuff(managed_c, 1)\n",
    "#     do_stuff(managed_c, 2)\n",
    "\n",
    "# This will open the context once and then reuse it\n",
    "with managed_c:\n",
    "    do_stuff(managed_c, 1)\n",
    "    do_stuff(managed_c, 2)\n",
    "\n"
   ]
  },
  {
   "cell_type": "code",
   "execution_count": null,
   "metadata": {},
   "outputs": [],
   "source": []
  },
  {
   "cell_type": "code",
   "execution_count": null,
   "metadata": {},
   "outputs": [],
   "source": []
  }
 ],
 "metadata": {
  "kernelspec": {
   "display_name": "p10",
   "language": "python",
   "name": "python3"
  },
  "language_info": {
   "codemirror_mode": {
    "name": "ipython",
    "version": 3
   },
   "file_extension": ".py",
   "mimetype": "text/x-python",
   "name": "python",
   "nbconvert_exporter": "python",
   "pygments_lexer": "ipython3",
   "version": "3.10.13"
  }
 },
 "nbformat": 4,
 "nbformat_minor": 2
}
